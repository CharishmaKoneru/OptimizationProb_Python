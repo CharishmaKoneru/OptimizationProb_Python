{
 "cells": [
  {
   "cell_type": "code",
   "execution_count": 1,
   "metadata": {},
   "outputs": [],
   "source": [
    "n=7\n",
    "model=[7,10,1,2,7,1]\n",
    "def gen(n,model):\n",
    "    dic={}\n",
    "    output=0\n",
    "    def ceil(a):\n",
    "        s=str(a)\n",
    "        if '.' in s:\n",
    "            k=s.index('.')-1\n",
    "            return int(s[k]+1)\n",
    "        else:\n",
    "            return a\n",
    "    k=ceil(len(model)/2)\n",
    "    for i in model:\n",
    "        if i in dic:\n",
    "            dic[i]+=1\n",
    "        else:\n",
    "            dic[i]=1\n",
    "    lis=sorted(dic.values())\n",
    "    for x in lis[::-1]:\n",
    "        if k<=1:\n",
    "            return output\n",
    "        else:\n",
    "            k=k-x\n",
    "            output+=1\n",
    "            "
   ]
  },
  {
   "cell_type": "code",
   "execution_count": 1,
   "metadata": {},
   "outputs": [
    {
     "name": "stdout",
     "output_type": "stream",
     "text": [
      "enter string:apple\n",
      "elppa\n"
     ]
    }
   ],
   "source": [
    "#reverse content of string\n",
    "s=input(\"enter string:\")\n",
    "out=s[::-1]\n",
    "print(out)"
   ]
  },
  {
   "cell_type": "code",
   "execution_count": 8,
   "metadata": {},
   "outputs": [
    {
     "name": "stdout",
     "output_type": "stream",
     "text": [
      "enter string:apple\n",
      "elppa\n"
     ]
    }
   ],
   "source": [
    "#reverse string with while loop\n",
    "s=input(\"enter string:\")\n",
    "output=\"\"\n",
    "i=len(s)-1\n",
    "while i>=0:\n",
    "    output=output+s[i]\n",
    "    i=i-1\n",
    "print(output)\n"
   ]
  },
  {
   "cell_type": "code",
   "execution_count": 9,
   "metadata": {},
   "outputs": [
    {
     "name": "stdout",
     "output_type": "stream",
     "text": [
      "enter stringapple is good\n",
      "goodisapple\n"
     ]
    }
   ],
   "source": [
    "#reverse order of words in string\n",
    "s=input(\"enter string\")\n",
    "l=s.split()\n",
    "l1=l[::-1]\n",
    "output=''.join(l1)\n",
    "print(output)\n"
   ]
  },
  {
   "cell_type": "code",
   "execution_count": 1,
   "metadata": {},
   "outputs": [
    {
     "name": "stdout",
     "output_type": "stream",
     "text": [
      "[('a', 'c'), ('b', 'c'), ('b', 'e'), ('c', 'a'), ('c', 'b'), ('c', 'd'), ('d', 'c'), ('e', 'c'), ('e', 'b')]\n"
     ]
    }
   ],
   "source": [
    "graph={\"a\":[\"c\"],\n",
    "      \"b\":[\"c\",\"e\"],\n",
    "      \"c\":[\"a\",\"b\",\"d\"],\n",
    "      \"d\":[\"c\"],\n",
    "      \"e\":[\"c\",\"b\"],\n",
    "      \"f\":[]}\n",
    "def generate_edges(graph):\n",
    "    edges=[]\n",
    "    for node in graph:\n",
    "        for neighbour in graph[node]:\n",
    "            edges.append((node,neighbour))\n",
    "    return edges\n",
    "print(generate_edges(graph))\n"
   ]
  },
  {
   "cell_type": "code",
   "execution_count": 2,
   "metadata": {},
   "outputs": [
    {
     "name": "stdout",
     "output_type": "stream",
     "text": [
      "['f']\n"
     ]
    }
   ],
   "source": [
    "def find_isolated_nodes(graph):\n",
    "    \"\"\"returns a list of isolated nodes\"\"\"\n",
    "    isolated=[]\n",
    "    for node in graph:\n",
    "        if not graph[node]:\n",
    "            isolated+=node\n",
    "    return isolated\n",
    "print(find_isolated_nodes(graph))"
   ]
  },
  {
   "cell_type": "code",
   "execution_count": 6,
   "metadata": {},
   "outputs": [
    {
     "ename": "NameError",
     "evalue": "name 'name' is not defined",
     "output_type": "error",
     "traceback": [
      "\u001b[0;31m---------------------------------------------------------------------------\u001b[0m",
      "\u001b[0;31mNameError\u001b[0m                                 Traceback (most recent call last)",
      "\u001b[0;32m<ipython-input-6-d3f3aac8408d>\u001b[0m in \u001b[0;36m<module>\u001b[0;34m\u001b[0m\n\u001b[1;32m     42\u001b[0m             \u001b[0mres\u001b[0m\u001b[0;34m+=\u001b[0m\u001b[0mstr\u001b[0m\u001b[0;34m(\u001b[0m\u001b[0medge\u001b[0m\u001b[0;34m)\u001b[0m\u001b[0;34m+\u001b[0m\u001b[0;34m\"\"\u001b[0m\u001b[0;34m\u001b[0m\u001b[0;34m\u001b[0m\u001b[0m\n\u001b[1;32m     43\u001b[0m         \u001b[0;32mreturn\u001b[0m \u001b[0mres\u001b[0m\u001b[0;34m\u001b[0m\u001b[0;34m\u001b[0m\u001b[0m\n\u001b[0;32m---> 44\u001b[0;31m \u001b[0;32mif\u001b[0m \u001b[0mname\u001b[0m\u001b[0;34m==\u001b[0m\u001b[0;34m\"_main_\"\u001b[0m\u001b[0;34m:\u001b[0m\u001b[0;34m\u001b[0m\u001b[0;34m\u001b[0m\u001b[0m\n\u001b[0m\u001b[1;32m     45\u001b[0m     g={\"a\":[\"d\"],\n\u001b[1;32m     46\u001b[0m       \u001b[0;34m\"b\"\u001b[0m\u001b[0;34m:\u001b[0m\u001b[0;34m[\u001b[0m\u001b[0;34m\"c\"\u001b[0m\u001b[0;34m]\u001b[0m\u001b[0;34m,\u001b[0m\u001b[0;34m\u001b[0m\u001b[0;34m\u001b[0m\u001b[0m\n",
      "\u001b[0;31mNameError\u001b[0m: name 'name' is not defined"
     ]
    }
   ],
   "source": [
    "class Graph(object):\n",
    "    def _init_(self,graph_dict=None):\n",
    "        \"\"\"initializes a graph object\n",
    "        If no dictionary or None is given,\n",
    "        an empty dictionary will be used\n",
    "        \"\"\"\n",
    "        if graph_dict==None:\n",
    "            graph_dict={}\n",
    "        self._graph_dict=graph_dict\n",
    "    def vertices(self):\n",
    "        \"\"\"returns the vertices of a graph\"\"\"\n",
    "        return list(self._graph_dict.keys())\n",
    "    def edges(self):\n",
    "        \"\"\"returns the edges of a graph\"\"\"\n",
    "        return self._generate_edges()\n",
    "    def add_vertex(self,vertex):\n",
    "        \"\"\"a key vertex is added\"\"\"\n",
    "        if vertex not in self._graph_dict:\n",
    "            self._graph_dict[vertex]=[]\n",
    "    def add_edge(self, edge):\n",
    "        \"\"\"tuple or list\"\"\"\n",
    "        edge=set(edge)\n",
    "        (vertex1, vertex2)=tuple(edge)\n",
    "        if vertex1 in self._graph_dict:\n",
    "            self._graph_dict[vertex1].append(vertex2)\n",
    "        else:\n",
    "            self._graph_dict[vertex1]=[vertex2]\n",
    "    def _generate_edges(self):\n",
    "        \"\"\"a static menthod\"\"\"\n",
    "        edges=[]\n",
    "        for vertex in self._graph_dict:\n",
    "            for neighbour in self._graph_dict[vertex]:\n",
    "                if{neighbour, vertex} not in edges:\n",
    "                    edges.append({vertex,neighbour})\n",
    "        return edges\n",
    "    def _str_(self):\n",
    "        res=\"vertices:\"\n",
    "        for k in self._graph_dict:\n",
    "            res+=str(k)+\"\"\n",
    "        res+=\"\\nedges:\"\n",
    "        for edge in self._generate_edges():\n",
    "            res+=str(edge)+\"\"\n",
    "        return res\n",
    "if _name_==\"_main_\":\n",
    "    g={\"a\":[\"d\"],\n",
    "      \"b\":[\"c\"],\n",
    "      \"c\":[\"b\",\"c\",\"d\",\"e\"],\n",
    "      \"d\":[\"a\",\"c\"],\n",
    "      \"e\":[\"c\"],\n",
    "      \"f\":[]}\n",
    "    graph=Graph(g)\n",
    "    print(\"Vertices of graph:\")\n",
    "    print(graph.vertices())\n",
    "    \n",
    "    print(\"Edges of graph:\")\n",
    "    print(graph.edges())\n",
    "    \n",
    "    print(\"Add vertex:\")\n",
    "    graph.add_vertex(\"z\")\n",
    "    \n",
    "    print(\"Vertices of graph:\")\n",
    "    print(graph.vertices())\n",
    "    \n",
    "    print(\"Edges of graph:\")\n",
    "    print(graph.edges())\n",
    "    \n",
    "    print('Adding an edge {\"x\",\"y\"} with new vertices:')\n",
    "    graph.add_edge({\"x\",\"y\"})\n",
    "    print(\"Vertices of graph:\")\n",
    "    print(graph.vertices())\n",
    "    print(\"Edges of graph:\")\n",
    "    print(graph.edges())"
   ]
  },
  {
   "cell_type": "code",
   "execution_count": 7,
   "metadata": {},
   "outputs": [],
   "source": [
    "#path in an undirected graph\n",
    "def find_path(self, start_vertex, end_vertex, path=None):\n",
    "    if path == None:\n",
    "        path=[]\n",
    "    graph=self._graph_dict\n",
    "    path = path+[start_vertex]\n",
    "    if start_vertex == end_vertex:\n",
    "        return path\n",
    "    if start_vertex not in graph:\n",
    "        return None\n",
    "    for vertex in graph[start_vertex]:\n",
    "        if vertex not in path:\n",
    "            extended_path = self.find_path(vertex, end_vertex, path)\n",
    "            if extended_path:\n",
    "                return extended_path\n",
    "    return none\n"
   ]
  },
  {
   "cell_type": "code",
   "execution_count": 8,
   "metadata": {},
   "outputs": [],
   "source": [
    "class Solution(object):\n",
    "    def maxPoints(self, points):\n",
    "        \"\"\"\n",
    "        :type points: List[List[int]]\n",
    "        :rtype: int\n",
    "        \"\"\"\n",
    "        def max_points_on_a_line_containing_point_i(i):\n",
    "            \"\"\"\n",
    "            Compute the max number of points\n",
    "            for a line containing point i.\n",
    "            \"\"\"\n",
    "            def slope_coprime(x1, y1, x2, y2):\n",
    "                \"\"\" to avoid the precision issue with the float/double number,\n",
    "                    using a pair of co-prime numbers to represent the slope.\n",
    "                \"\"\"\n",
    "                delta_x, delta_y = x1 - x2, y1 - y2\n",
    "                if delta_x == 0:    # vertical line\n",
    "                    return (0, 0)\n",
    "                elif delta_y == 0:  # horizontal line\n",
    "                    return (sys.maxsize, sys.maxsize)\n",
    "                elif delta_x < 0:\n",
    "                    # to have a consistent representation,\n",
    "                    #   keep the delta_x always positive.\n",
    "                    delta_x, delta_y = - delta_x, - delta_y\n",
    "                gcd = math.gcd(delta_x, delta_y)\n",
    "                slope = (delta_x / gcd, delta_y / gcd)\n",
    "                return slope\n",
    "\n",
    "\n",
    "            def add_line(i, j, count, duplicates):\n",
    "                \"\"\"\n",
    "                Add a line passing through i and j points.\n",
    "                Update max number of points on a line containing point i.\n",
    "                Update a number of duplicates of i point.\n",
    "                \"\"\"\n",
    "                # rewrite points as coordinates\n",
    "                x1 = points[i][0]\n",
    "                y1 = points[i][1]\n",
    "                x2 = points[j][0]\n",
    "                y2 = points[j][1]\n",
    "                # add a duplicate point\n",
    "                if x1 == x2 and y1 == y2:  \n",
    "                    duplicates += 1\n",
    "                # add a horisontal line : y = const\n",
    "                elif y1 == y2:\n",
    "                    nonlocal horizontal_lines\n",
    "                    horizontal_lines += 1\n",
    "                    count = max(horizontal_lines, count)\n",
    "                # add a line : x = slope * y + c\n",
    "                # only slope is needed for a hash-map\n",
    "                # since we always start from the same point\n",
    "                else:\n",
    "                    slope = slope_coprime(x1, y1, x2, y2)\n",
    "                    lines[slope] = lines.get(slope, 1) + 1\n",
    "                    count = max(lines[slope], count)\n",
    "                return count, duplicates\n",
    "            \n",
    "            # init lines passing through point i\n",
    "            lines, horizontal_lines = {}, 1\n",
    "            # One starts with just one point on a line : point i.\n",
    "            count = 1\n",
    "            # There is no duplicates of a point i so far.\n",
    "            duplicates = 0\n",
    "            # Compute lines passing through point i (fixed)\n",
    "            # and point j (interation).\n",
    "            # Update in a loop the number of points on a line\n",
    "            # and the number of duplicates of point i.\n",
    "            for j in range(i + 1, n):\n",
    "                count, duplicates = add_line(i, j, count, duplicates)\n",
    "            return count + duplicates\n",
    "            \n",
    "        # If the number of points is less than 3\n",
    "        # they are all on the same line.\n",
    "        n = len(points)\n",
    "        if n < 3:\n",
    "            return n\n",
    "        \n",
    "        max_count = 1\n",
    "        # Compute in a loop a max number of points \n",
    "        # on a line containing point i.\n",
    "        for i in range(n - 1):\n",
    "            max_count = max(max_points_on_a_line_containing_point_i(i), max_count)\n",
    "        return max_count"
   ]
  },
  {
   "cell_type": "code",
   "execution_count": 2,
   "metadata": {},
   "outputs": [
    {
     "name": "stdout",
     "output_type": "stream",
     "text": [
      "1\n",
      "101110\n",
      "101101\n"
     ]
    }
   ],
   "source": [
    "\"\"\"largest palindrom\n",
    "1<=T<=100\n",
    "101101<=N<=1000000\"\"\"\n",
    "T = int(input())\n",
    "for _ in range(T):\n",
    "    N = int(input())\n",
    "    largest = 0\n",
    "    limit = N - 1\n",
    "    for number_1 in range(999, 100, -1):\n",
    "        if number_1 % 11:\n",
    "            start = min(990, limit // number_1 // 11 * 11)\n",
    "            step = -11\n",
    "        else:\n",
    "            start = min(999, limit // number_1)\n",
    "            step = -1\n",
    "        for number_2 in range(start, number_1, step):\n",
    "            product = number_1 * number_2\n",
    "            if product <= largest:\n",
    "                break\n",
    "            product_str = str(product)\n",
    "            if product_str == product_str[::-1]:\n",
    "                largest = product\n",
    "                break\n",
    "    print(largest)"
   ]
  },
  {
   "cell_type": "code",
   "execution_count": null,
   "metadata": {},
   "outputs": [],
   "source": []
  }
 ],
 "metadata": {
  "kernelspec": {
   "display_name": "Python 3",
   "language": "python",
   "name": "python3"
  },
  "language_info": {
   "codemirror_mode": {
    "name": "ipython",
    "version": 3
   },
   "file_extension": ".py",
   "mimetype": "text/x-python",
   "name": "python",
   "nbconvert_exporter": "python",
   "pygments_lexer": "ipython3",
   "version": "3.7.4"
  }
 },
 "nbformat": 4,
 "nbformat_minor": 2
}
