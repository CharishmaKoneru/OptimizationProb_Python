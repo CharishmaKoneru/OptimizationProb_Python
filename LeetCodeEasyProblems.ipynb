{
 "cells": [
  {
   "cell_type": "code",
   "execution_count": null,
   "metadata": {},
   "outputs": [],
   "source": [
    "Tuesday 27,Oct 2020"
   ]
  },
  {
   "cell_type": "markdown",
   "metadata": {},
   "source": [
    "1. Given an array nums. We define a running sum of an array as runningSum[i] = sum(nums[0]…nums[i]).\n",
    "\n",
    "Return the running sum of nums.\n",
    "\n",
    " \n",
    "\n",
    "Example 1:\n",
    "\n",
    "Input: nums = [1,2,3,4]\n",
    "Output: [1,3,6,10]\n",
    "Explanation: Running sum is obtained as follows: [1, 1+2, 1+2+3, 1+2+3+4].\n",
    "Example 2:\n",
    "\n",
    "Input: nums = [1,1,1,1,1]\n",
    "Output: [1,2,3,4,5]\n",
    "Explanation: Running sum is obtained as follows: [1, 1+1, 1+1+1, 1+1+1+1, 1+1+1+1+1].\n",
    "Example 3:\n",
    "\n",
    "Input: nums = [3,1,2,10,1]\n",
    "Output: [3,4,6,16,17]\n",
    " \n",
    "\n",
    "Constraints:\n",
    "\n",
    "1 <= nums.length <= 1000\n",
    "-10^6 <= nums[i] <= 10^6"
   ]
  },
  {
   "cell_type": "code",
   "execution_count": 5,
   "metadata": {},
   "outputs": [
    {
     "name": "stdout",
     "output_type": "stream",
     "text": [
      "[1, 3, 6, 11]\n"
     ]
    }
   ],
   "source": [
    "\n",
    "    def runningSum(nums):\n",
    "        ans=[]\n",
    "        tmp=0\n",
    "        for i in nums:\n",
    "            tmp+=i\n",
    "            ans.append(tmp)\n",
    "        return ans\n",
    "nums = [1,2,3,5]\n",
    "rs = runningSum(nums)\n",
    "print(rs)"
   ]
  },
  {
   "cell_type": "markdown",
   "metadata": {},
   "source": [
    "2. Largest Number At Least Twice of Others\n",
    "\n",
    "In a given integer array nums, there is always exactly one largest element.\n",
    "\n",
    "Find whether the largest element in the array is at least twice as much as every other number in the array.\n",
    "\n",
    "If it is, return the index of the largest element, otherwise return -1.\n",
    "\n",
    "Example 1:\n",
    "\n",
    "Input: nums = [3, 6, 1, 0]\n",
    "Output: 1\n",
    "Explanation: 6 is the largest integer, and for every other number in the array x,\n",
    "6 is more than twice as big as x.  The index of value 6 is 1, so we return 1.\n",
    " \n",
    "\n",
    "Example 2:\n",
    "\n",
    "Input: nums = [1, 2, 3, 4]\n",
    "Output: -1\n",
    "Explanation: 4 isn't at least as big as twice the value of 3, so we return -1.\n",
    " \n",
    "\n",
    "Note:\n",
    "\n",
    "nums will have a length in the range [1, 50].\n",
    "Every nums[i] will be an integer in the range [0, 99]."
   ]
  },
  {
   "cell_type": "code",
   "execution_count": 6,
   "metadata": {},
   "outputs": [],
   "source": [
    "class Solution:\n",
    "    def dominantIndex(self):\n",
    "        temp=0\n",
    "        for i in nums:\n",
    "            if temp<i:\n",
    "                temp=i\n",
    "        for i in nums:\n",
    "            if temp!=i:\n",
    "                if temp <i*2:\n",
    "                    return -1\n",
    "        return nums.index(temp)"
   ]
  },
  {
   "cell_type": "code",
   "execution_count": 7,
   "metadata": {},
   "outputs": [],
   "source": [
    "def dominantIndex(nums):\n",
    "    m=max(nums)\n",
    "    if all(m>=2*x for x in nums if x!=m):\n",
    "        return nums.index(m)\n",
    "    return -1\n",
    "    "
   ]
  },
  {
   "cell_type": "code",
   "execution_count": 8,
   "metadata": {},
   "outputs": [],
   "source": [
    "def dominantIndex(nums):\n",
    "    curr_max=nums[0]\n",
    "    j=0\n",
    "    for i in range(1,len(nums)):\n",
    "        if nums[i]>=2*curr_max:\n",
    "            j=i\n",
    "        elif curr_max>=2*nums[i]:\n",
    "            continue\n",
    "        else:\n",
    "            j=-1\n",
    "        curr_max=max(curr_max,nums[i])\n",
    "    return j"
   ]
  },
  {
   "cell_type": "markdown",
   "metadata": {},
   "source": [
    "3. Contains Duplicate\n",
    "Easy\n",
    "\n",
    "\n",
    "Given an array of integers, find if the array contains any duplicates.\n",
    "\n",
    "Your function should return true if any value appears at least twice in the array, and it should return false if every element is distinct.\n",
    "\n",
    "Example 1:\n",
    "\n",
    "Input: [1,2,3,1]\n",
    "Output: true\n",
    "Example 2:\n",
    "\n",
    "Input: [1,2,3,4]\n",
    "Output: false\n",
    "Example 3:\n",
    "\n",
    "Input: [1,1,1,3,3,4,3,2,4,2]\n",
    "Output: true"
   ]
  },
  {
   "cell_type": "code",
   "execution_count": null,
   "metadata": {},
   "outputs": [],
   "source": [
    "class Solution:\n",
    "    def containsDuplicate(self):\n",
    "        if len(nums)==len(set(nums)):\n",
    "            return False\n",
    "        return True"
   ]
  },
  {
   "cell_type": "code",
   "execution_count": null,
   "metadata": {},
   "outputs": [],
   "source": [
    "def containsDuplicate(nums):\n",
    "    dic={}\n",
    "    for i in nums:\n",
    "        if i in dic:\n",
    "            dic[i]+=1\n",
    "            if dic[i]>=\n",
    "        else:\n",
    "            dic[i]=1\n",
    "    for i in nums:\n",
    "        if dic[i]"
   ]
  },
  {
   "cell_type": "markdown",
   "metadata": {},
   "source": [
    "https://thispointer.com/python-3-ways-to-check-if-there-are-duplicates-in-a-list/\n",
    "To check if a list contains any duplicate element follow the following steps,\n",
    "\n",
    "Add the contents of list in a set.\n",
    "As set contains only unique elements, so no duplicates will be added to the set.\n",
    "Compare the size of set and list.\n",
    "If size of list & set is equal then it means no duplicates in list.\n",
    "If size of list & set are different then it means yes, there are duplicates in list"
   ]
  },
  {
   "cell_type": "markdown",
   "metadata": {},
   "source": [
    "4. Contains Duplicate II\n",
    "Easy\n",
    "\n",
    "Given an array of integers and an integer k, find out whether there are two distinct indices i and j in the array such that nums[i] = nums[j] and the absolute difference between i and j is at most k.\n",
    "\n",
    "Example 1:\n",
    "\n",
    "Input: nums = [1,2,3,1], k = 3\n",
    "Output: true\n",
    "Example 2:\n",
    "\n",
    "Input: nums = [1,0,1,1], k = 1\n",
    "Output: true\n",
    "Example 3:\n",
    "\n",
    "Input: nums = [1,2,3,1,2,3], k = 2\n",
    "Output: false"
   ]
  },
  {
   "cell_type": "code",
   "execution_count": 9,
   "metadata": {},
   "outputs": [],
   "source": [
    "def containsNearbyDuplicate(nums):\n",
    "    dic={}\n",
    "    for i in range(len(nums)):\n",
    "        if nums[i] in dic and abs(i-dic[nums[i]])<=k:\n",
    "            return True\n",
    "        dic[nums[i]]=i\n",
    "    return False"
   ]
  },
  {
   "cell_type": "code",
   "execution_count": null,
   "metadata": {},
   "outputs": [],
   "source": [
    "class Solution:\n",
    "    def containsNearbyDuplicate(self, nums: List[int], k: int) -> bool:\n",
    "        oc_set = set() \n",
    "        res = [] \n",
    "        for idx, val in enumerate(nums): \n",
    "            if val not in oc_set: \n",
    "                oc_set.add(val)          \n",
    "            else: \n",
    "                res.append(idx)\n",
    "        print(res)\n",
    "        for j in res:\n",
    "            for i in nums:\n",
    "                if nums.index(i)!=j and i==nums[j]:\n",
    "                    if abs(j-nums.index(i))<=k:\n",
    "                        return True     \n",
    "        return False\n",
    "        \n",
    "        \n",
    "        for i in range(len(nums)-1):\n",
    "            for j in range(i+1,len(nums)-1):\n",
    "                if nums[i]==nums[j]:\n",
    "                    if (i-j)<=k:\n",
    "                        return True\n",
    "        return False"
   ]
  },
  {
   "cell_type": "code",
   "execution_count": null,
   "metadata": {},
   "outputs": [],
   "source": [
    "class Solution:\n",
    "    def containsNearbyDuplicate(self, nums: List[int], k: int) -> bool:\n",
    "        history = defaultdict(int)\n",
    "        for i,item in enumerate(nums):\n",
    "            if item in history:\n",
    "                if i - history[item] <= k:\n",
    "                    return True\n",
    "                else: history[item] = i\n",
    "            else: history[item] = i\n",
    "        return False"
   ]
  },
  {
   "cell_type": "code",
   "execution_count": 10,
   "metadata": {},
   "outputs": [
    {
     "name": "stdout",
     "output_type": "stream",
     "text": [
      "True\n"
     ]
    }
   ],
   "source": [
    "def checkPossibility(nums):\n",
    "    temp=0\n",
    "    for i in nums:\n",
    "        if i > i+1:\n",
    "            temp+=1\n",
    "        if temp<=1:\n",
    "            return True\n",
    "    return False\n",
    "nums=[4,2,1]\n",
    "print(checkPossibility(nums))\n",
    "    "
   ]
  },
  {
   "cell_type": "markdown",
   "metadata": {},
   "source": [
    "5. Kids With the Greatest Number of Candies\n",
    "Easy\n",
    "\n",
    "Given the array candies and the integer extraCandies, where candies[i] represents the number of candies that the ith kid has.\n",
    "\n",
    "For each kid check if there is a way to distribute extraCandies among the kids such that he or she can have the greatest number of candies among them. Notice that multiple kids can have the greatest number of candies.\n",
    "\n",
    " \n",
    "\n",
    "Example 1:\n",
    "\n",
    "Input: candies = [2,3,5,1,3], extraCandies = 3\n",
    "Output: [true,true,true,false,true] \n",
    "Explanation: \n",
    "Kid 1 has 2 candies and if he or she receives all extra candies (3) will have 5 candies --- the greatest number of candies among the kids. \n",
    "Kid 2 has 3 candies and if he or she receives at least 2 extra candies will have the greatest number of candies among the kids. \n",
    "Kid 3 has 5 candies and this is already the greatest number of candies among the kids. \n",
    "Kid 4 has 1 candy and even if he or she receives all extra candies will only have 4 candies. \n",
    "Kid 5 has 3 candies and if he or she receives at least 2 extra candies will have the greatest number of candies among the kids. \n",
    "Example 2:\n",
    "\n",
    "Input: candies = [4,2,1,1,2], extraCandies = 1\n",
    "Output: [true,false,false,false,false] \n",
    "Explanation: There is only 1 extra candy, therefore only kid 1 will have the greatest number of candies among the kids regardless of who takes the extra candy.\n",
    "Example 3:\n",
    "\n",
    "Input: candies = [12,1,12], extraCandies = 10\n",
    "Output: [true,false,true]\n",
    " \n",
    "\n",
    "Constraints:\n",
    "\n",
    "2 <= candies.length <= 100\n",
    "1 <= candies[i] <= 100\n",
    "1 <= extraCandies <= 50\n",
    "\n",
    "Hint 1:\n",
    "Use greedy approach. For each kid check if candies[i] + extraCandies ≥ maximum in Candies[i]."
   ]
  },
  {
   "cell_type": "code",
   "execution_count": 12,
   "metadata": {},
   "outputs": [],
   "source": [
    "def kidsWithcandies(candies, extraCandies):\n",
    "    x=max(candies)\n",
    "    for i in range(len(candies)):\n",
    "        if candies[i]+extraCandies>=x:\n",
    "            candies[i]=True\n",
    "        else:\n",
    "            candies[i]=False\n",
    "    return candies"
   ]
  },
  {
   "cell_type": "code",
   "execution_count": null,
   "metadata": {},
   "outputs": [],
   "source": [
    "class Solution:\n",
    "    def kidsWithCandies(self, candies, extraCandies):\n",
    "        ans=[]\n",
    "        for i in candies:\n",
    "            if i+extraCandies>=max(candies):\n",
    "                ans.append(True)\n",
    "            else:\n",
    "                ans.append(False)\n",
    "        return ans"
   ]
  },
  {
   "cell_type": "code",
   "execution_count": null,
   "metadata": {},
   "outputs": [],
   "source": [
    "class Solution:\n",
    "    def kidsWithCandies(candies, extraCandies):\n",
    "        ans=[]\n",
    "        maxl=candies[0]\n",
    "        for i in range(1,len(candies)):\n",
    "            if candies[i]>maxl:\n",
    "                maxl=candies[i]\n",
    "        for i in candies:\n",
    "            if i+extraCandies>=maxl:\n",
    "                ans.append(True)\n",
    "            else:\n",
    "                ans.append(False)\n",
    "        return ans\n",
    "    candies=[8,1,7,10,5]\n",
    "    extraCandies=3\n",
    "    print(kidsWithCandies(candies, extraCandies))"
   ]
  },
  {
   "cell_type": "code",
   "execution_count": null,
   "metadata": {},
   "outputs": [],
   "source": [
    "#Naive approach \n",
    "#to find index of maximum and \n",
    "#minimum element in the array. \n",
    "gfg_list=[8,1,7,10,5] \n",
    "#min and max indexes are taken 1st element  \n",
    "#In some cases list might be a single element \n",
    "min_ele,max_ele=gfg_list[0],gfg_list[0]  \n",
    "for i in range(1,len(gfg_list)): \n",
    "    if gfg_list[i]<min_ele: \n",
    "        min_ele=gfg_list[i] \n",
    "    if gfg_list[i]>max_ele: \n",
    "        max_ele=gfg_list[i] \n",
    "print('Minimum Element in the list',gfg_list,'is',min_ele) \n",
    "print('Maximum Element in the list',gfg_list,'is',max_ele) "
   ]
  },
  {
   "cell_type": "code",
   "execution_count": null,
   "metadata": {},
   "outputs": [],
   "source": [
    "l=[8,1,7,10,5]\n",
    "maxl=l[0]\n",
    "for i in range(1,len(l)):\n",
    "    if l[i]>maxl:\n",
    "        maxl=l[i]\n",
    "print(maxl)"
   ]
  },
  {
   "cell_type": "markdown",
   "metadata": {},
   "source": [
    "6. Shuffle the Array\n",
    "Easy\n",
    "\n",
    "\n",
    "Given the array nums consisting of 2n elements in the form [x1,x2,...,xn,y1,y2,...,yn].\n",
    "\n",
    "Return the array in the form [x1,y1,x2,y2,...,xn,yn].\n",
    "\n",
    " \n",
    "\n",
    "Example 1:\n",
    "\n",
    "Input: nums = [2,5,1,3,4,7], n = 3\n",
    "Output: [2,3,5,4,1,7] \n",
    "Explanation: Since x1=2, x2=5, x3=1, y1=3, y2=4, y3=7 then the answer is [2,3,5,4,1,7].\n",
    "Example 2:\n",
    "\n",
    "Input: nums = [1,2,3,4,4,3,2,1], n = 4\n",
    "Output: [1,4,2,3,3,2,4,1]\n",
    "Example 3:\n",
    "\n",
    "Input: nums = [1,1,2,2], n = 2\n",
    "Output: [1,2,1,2]\n",
    " \n",
    "\n",
    "Constraints:\n",
    "\n",
    "1 <= n <= 500\n",
    "nums.length == 2n\n",
    "1 <= nums[i] <= 10^3\n"
   ]
  },
  {
   "cell_type": "code",
   "execution_count": 3,
   "metadata": {},
   "outputs": [
    {
     "name": "stdout",
     "output_type": "stream",
     "text": [
      "[1, 1, 2, 2, 3, 3]\n"
     ]
    }
   ],
   "source": [
    "def shuffle(nums,n):\n",
    "    for i in range(1,len(nums),2):\n",
    "        nums.insert(i,nums.pop(n))\n",
    "        n+=1\n",
    "    return nums\n",
    "print(shuffle([1,2,3,1,2,3],3))"
   ]
  },
  {
   "cell_type": "code",
   "execution_count": 4,
   "metadata": {},
   "outputs": [
    {
     "name": "stdout",
     "output_type": "stream",
     "text": [
      "[1, 1, 2, 2, 3, 3]\n"
     ]
    }
   ],
   "source": [
    "def shuffle(nums,n):\n",
    "    res=[]\n",
    "    for x,y in zip(nums[:n],nums[n:]):\n",
    "        res.extend([x,y])\n",
    "    return res\n",
    "print(shuffle([1,2,3,1,2,3],3))"
   ]
  },
  {
   "cell_type": "code",
   "execution_count": 1,
   "metadata": {},
   "outputs": [
    {
     "name": "stdout",
     "output_type": "stream",
     "text": [
      "[1, 1, 2, 2, 3, 3]\n"
     ]
    }
   ],
   "source": [
    "class Solution:\n",
    "    def shuffle(nums, n):\n",
    "        a1=[]\n",
    "        a2=[]\n",
    "        j=1\n",
    "        for i in range(0,len(nums)):\n",
    "            if i<n:\n",
    "                a1.append(nums[i])\n",
    "            else:\n",
    "                a2.append(nums[i])\n",
    "        \n",
    "        for i in range(0,len(a1)):\n",
    "            a1.insert(j,a2[i])\n",
    "            j+=2\n",
    "            \n",
    "        return a1\n",
    "    print(shuffle([1,2,3,1,2,3],3))"
   ]
  },
  {
   "cell_type": "markdown",
   "metadata": {},
   "source": [
    "7. Number of Good Pairs\n",
    "Easy\n",
    "\n",
    "\n",
    "Given an array of integers nums.\n",
    "\n",
    "A pair (i,j) is called good if nums[i] == nums[j] and i < j.\n",
    "\n",
    "Return the number of good pairs.\n",
    "\n",
    " \n",
    "\n",
    "Example 1:\n",
    "\n",
    "Input: nums = [1,2,3,1,1,3]\n",
    "Output: 4\n",
    "Explanation: There are 4 good pairs (0,3), (0,4), (3,4), (2,5) 0-indexed.\n",
    "Example 2:\n",
    "\n",
    "Input: nums = [1,1,1,1]\n",
    "Output: 6\n",
    "Explanation: Each pair in the array are good.\n",
    "Example 3:\n",
    "\n",
    "Input: nums = [1,2,3]\n",
    "Output: 0\n",
    " \n",
    "\n",
    "Constraints:\n",
    "\n",
    "1 <= nums.length <= 100\n",
    "1 <= nums[i] <= 100\n"
   ]
  },
  {
   "cell_type": "code",
   "execution_count": 15,
   "metadata": {},
   "outputs": [],
   "source": [
    "#My own method withoutusing count/set/other functions\n",
    "def numIdenticalPairs(nums):\n",
    "    dic={}\n",
    "    s=0\n",
    "    for i in range(len(nums)):\n",
    "        if nums[i] in dic:\n",
    "            dic[nums[i]]+=1\n",
    "        else:\n",
    "            dic[nums[i]]=1\n",
    "    for i in dic:\n",
    "        s+=dic[i]*(dic[i]-1)//2\n",
    "    return s"
   ]
  },
  {
   "cell_type": "code",
   "execution_count": 13,
   "metadata": {},
   "outputs": [],
   "source": [
    "def numIdenticalPairs(nums):\n",
    "    return sum([count*(count-1)//2 for count in Counter(nums).values()])"
   ]
  },
  {
   "cell_type": "code",
   "execution_count": null,
   "metadata": {},
   "outputs": [],
   "source": [
    "class Solution:\n",
    "    def numIdenticalPairs(self, nums: List[int]) -> int:\n",
    "        ct=0\n",
    "        t=0\n",
    "        if len(nums)==len(set(nums)):\n",
    "            return 0\n",
    "        elif len(set(nums))==1:\n",
    "            return int(len(nums)*(len(nums)-1)/2)\n",
    "        else:\n",
    "            for i in set(nums):\n",
    "                t=nums.count(i)\n",
    "                ct+=(t*(t-1))/2\n",
    "            return int(ct)"
   ]
  },
  {
   "cell_type": "markdown",
   "metadata": {},
   "source": [
    "8. Defanging an IP Address\n",
    "Easy\n",
    "\n",
    "Given a valid (IPv4) IP address, return a defanged version of that IP address.\n",
    "\n",
    "A defanged IP address replaces every period \".\" with \"[.]\".\n",
    "\n",
    " \n",
    "\n",
    "Example 1:\n",
    "\n",
    "Input: address = \"1.1.1.1\"\n",
    "Output: \"1[.]1[.]1[.]1\"\n",
    "Example 2:\n",
    "\n",
    "Input: address = \"255.100.50.0\"\n",
    "Output: \"255[.]100[.]50[.]0\"\n",
    " \n",
    "\n",
    "Constraints:\n",
    "\n",
    "The given address is a valid IPv4 address."
   ]
  },
  {
   "cell_type": "code",
   "execution_count": null,
   "metadata": {},
   "outputs": [],
   "source": [
    "class Solution:\n",
    "    def defangIPaddr(self, address: str) -> str:\n",
    "        plist = list(address)\n",
    "        for i in range(0,len(plist)):\n",
    "            if plist[i]=='.':\n",
    "                plist.pop(i)\n",
    "                plist.insert(i,'[.]')\n",
    "        return ''.join(plist)\n",
    "        "
   ]
  },
  {
   "cell_type": "markdown",
   "metadata": {},
   "source": [
    "9. Jewels and Stones\n",
    "Easy\n",
    "You're given strings J representing the types of stones that are jewels, and S representing the stones you have.  Each character in S is a type of stone you have.  You want to know how many of the stones you have are also jewels.\n",
    "\n",
    "The letters in J are guaranteed distinct, and all characters in J and S are letters. Letters are case sensitive, so \"a\" is considered a different type of stone from \"A\".\n",
    "\n",
    "Example 1:\n",
    "\n",
    "Input: J = \"aA\", S = \"aAAbbbb\"\n",
    "Output: 3\n",
    "Example 2:\n",
    "\n",
    "Input: J = \"z\", S = \"ZZ\"\n",
    "Output: 0\n",
    "Note:\n",
    "\n",
    "S and J will consist of letters and have length at most 50.\n",
    "The characters in J are distinct.\n"
   ]
  },
  {
   "cell_type": "code",
   "execution_count": null,
   "metadata": {},
   "outputs": [],
   "source": [
    "class Solution:\n",
    "    def numJewelsInStones(self, J: str, S: str) -> int:\n",
    "        c=0\n",
    "        pj=list(J)\n",
    "        ps=list(S)\n",
    "        for i in range(len(pj)):\n",
    "            for j in range(len(ps)):\n",
    "                if pj[i]==ps[j]:\n",
    "                    c+=1\n",
    "        return c\n",
    "                  "
   ]
  },
  {
   "cell_type": "markdown",
   "metadata": {},
   "source": [
    "10. Shuffle String\n",
    "\n",
    "\n",
    "Given a string s and an integer array indices of the same length.\n",
    "\n",
    "The string s will be shuffled such that the character at the ith position moves to indices[i] in the shuffled string.\n",
    "\n",
    "Return the shuffled string.\n",
    "\n",
    " \n",
    "\n",
    "Example 1:\n",
    "\n",
    "\n",
    "Input: s = \"codeleet\", indices = [4,5,6,7,0,2,1,3]\n",
    "Output: \"leetcode\"\n",
    "Explanation: As shown, \"codeleet\" becomes \"leetcode\" after shuffling.\n",
    "Example 2:\n",
    "\n",
    "Input: s = \"abc\", indices = [0,1,2]\n",
    "Output: \"abc\"\n",
    "Explanation: After shuffling, each character remains in its position.\n",
    "Example 3:\n",
    "\n",
    "Input: s = \"aiohn\", indices = [3,1,4,2,0]\n",
    "Output: \"nihao\"\n",
    "Example 4:\n",
    "\n",
    "Input: s = \"aaiougrt\", indices = [4,0,2,6,7,3,1,5]\n",
    "Output: \"arigatou\"\n",
    "Example 5:\n",
    "\n",
    "Input: s = \"art\", indices = [1,0,2]\n",
    "Output: \"rat\"\n",
    " \n",
    "\n",
    "Constraints:\n",
    "\n",
    "s.length == indices.length == n\n",
    "1 <= n <= 100\n",
    "s contains only lower-case English letters.\n",
    "0 <= indices[i] < n\n",
    "All values of indices are unique (i.e. indices is a permutation of the integers from 0 to n - 1).\n",
    "\n",
    "hint 1:\n",
    "Assign t[indexes[i]] to s[i] for each i from 0 to n-1."
   ]
  },
  {
   "cell_type": "code",
   "execution_count": 8,
   "metadata": {},
   "outputs": [
    {
     "name": "stdout",
     "output_type": "stream",
     "text": [
      "the actual indices:  [4, 5, 6, 7, 0, 2, 1, 3]\n",
      "insertion order:  [4, 5, 6, 7, 'c', 2, 1, 3]\n",
      "insertion order:  [4, 5, 6, 7, 'c', 'o', 1, 3]\n",
      "insertion order:  [4, 5, 6, 7, 'c', 'o', 'd', 3]\n",
      "insertion order:  [4, 5, 6, 7, 'c', 'o', 'd', 'e']\n",
      "insertion order:  ['l', 5, 6, 7, 'c', 'o', 'd', 'e']\n",
      "insertion order:  ['l', 5, 'e', 7, 'c', 'o', 'd', 'e']\n",
      "insertion order:  ['l', 'e', 'e', 7, 'c', 'o', 'd', 'e']\n",
      "insertion order:  ['l', 'e', 'e', 't', 'c', 'o', 'd', 'e']\n",
      "leetcode\n"
     ]
    }
   ],
   "source": [
    "def restoreString(s,indices):\n",
    "    l=list(indices)\n",
    "    print(\"the actual indices: \",l)\n",
    "    for char,num in zip(s,indices):\n",
    "        l[num]=char\n",
    "        print(\"insertion order: \",l)\n",
    "    return ''.join(l)\n",
    "print(restoreString(\"codeleet\",[4,5,6,7,0,2,1,3]))"
   ]
  },
  {
   "cell_type": "code",
   "execution_count": null,
   "metadata": {},
   "outputs": [],
   "source": [
    "class Solution:\n",
    "    def restoreString(self, s: str, indices: List[int]) -> str:\n",
    "        ps=list(s)\n",
    "        l=len(ps)\n",
    "        st=[\" \"]*l\n",
    "        for i in range(l):\n",
    "            st[indices[i]]= ps[i]\n",
    "        return ''.join(st).replace(\" \",\"\")\n",
    "            "
   ]
  },
  {
   "cell_type": "markdown",
   "metadata": {},
   "source": [
    "11. How Many Numbers Are Smaller Than the Current Number\n",
    "Easy\n",
    "\n",
    "Given the array nums, for each nums[i] find out how many numbers in the array are smaller than it. That is, for each nums[i] you have to count the number of valid j's such that j != i and nums[j] < nums[i].\n",
    "\n",
    "Return the answer in an array.\n",
    "\n",
    " \n",
    "\n",
    "Example 1:\n",
    "\n",
    "Input: nums = [8,1,2,2,3]\n",
    "Output: [4,0,1,1,3]\n",
    "Explanation: \n",
    "For nums[0]=8 there exist four smaller numbers than it (1, 2, 2 and 3). \n",
    "For nums[1]=1 does not exist any smaller number than it.\n",
    "For nums[2]=2 there exist one smaller number than it (1). \n",
    "For nums[3]=2 there exist one smaller number than it (1). \n",
    "For nums[4]=3 there exist three smaller numbers than it (1, 2 and 2).\n",
    "Example 2:\n",
    "\n",
    "Input: nums = [6,5,4,8]\n",
    "Output: [2,1,0,3]\n",
    "Example 3:\n",
    "\n",
    "Input: nums = [7,7,7,7]\n",
    "Output: [0,0,0,0]\n",
    " \n",
    "\n",
    "Constraints:\n",
    "\n",
    "2 <= nums.length <= 500\n",
    "0 <= nums[i] <= 100\n"
   ]
  },
  {
   "cell_type": "code",
   "execution_count": null,
   "metadata": {},
   "outputs": [],
   "source": [
    "class Solution:\n",
    "    def smallerNumbersThanCurrent(self, nums: List[int]) -> List[int]:\n",
    "        ans=[]\n",
    "        for i in range(len(nums)):\n",
    "            c=0\n",
    "            for j in range(len(nums)):\n",
    "                if nums[i]>nums[j]:\n",
    "                    c+=1\n",
    "            ans.append(c)\n",
    "        return ans"
   ]
  },
  {
   "cell_type": "code",
   "execution_count": 10,
   "metadata": {},
   "outputs": [],
   "source": [
    "#Best solution\n",
    "def smallerNumbersThanCurrent(nums):\n",
    "    return [sorted(nums).index(i) for i in nums]\n"
   ]
  },
  {
   "cell_type": "markdown",
   "metadata": {},
   "source": [
    "12. Subtract the Product and Sum of Digits of an Integer\n",
    "Easy\n",
    "\n",
    "Given an integer number n, return the difference between the product of its digits and the sum of its digits.\n",
    " \n",
    "\n",
    "Example 1:\n",
    "\n",
    "Input: n = 234\n",
    "Output: 15 \n",
    "Explanation: \n",
    "Product of digits = 2 * 3 * 4 = 24 \n",
    "Sum of digits = 2 + 3 + 4 = 9 \n",
    "Result = 24 - 9 = 15\n",
    "Example 2:\n",
    "\n",
    "Input: n = 4421\n",
    "Output: 21\n",
    "Explanation: \n",
    "Product of digits = 4 * 4 * 2 * 1 = 32 \n",
    "Sum of digits = 4 + 4 + 2 + 1 = 11 \n",
    "Result = 32 - 11 = 21\n",
    " \n",
    "\n",
    "Constraints:\n",
    "\n",
    "1 <= n <= 10^5\n"
   ]
  },
  {
   "cell_type": "code",
   "execution_count": 13,
   "metadata": {},
   "outputs": [
    {
     "name": "stdout",
     "output_type": "stream",
     "text": [
      "15\n"
     ]
    }
   ],
   "source": [
    "def subtractProductAndSum(num):\n",
    "    p=1\n",
    "    s=0\n",
    "    while num>0:\n",
    "        x=num%10\n",
    "        p*=x\n",
    "        s+=x\n",
    "        num=num//10\n",
    "    return p-s\n",
    "print(subtractProductAndSum(234))"
   ]
  },
  {
   "cell_type": "code",
   "execution_count": null,
   "metadata": {},
   "outputs": [],
   "source": [
    "class Solution:\n",
    "    def subtractProductAndSum(self, n: int) -> int:\n",
    "        r=[]\n",
    "        p=1\n",
    "        s=0\n",
    "        while(n>0):\n",
    "            r.append(n%10)\n",
    "            n=n//10\n",
    "        for i in r:\n",
    "            p*=i\n",
    "            s+=i\n",
    "        print(r,p,s)\n",
    "        return p-s\n",
    "            "
   ]
  },
  {
   "cell_type": "markdown",
   "metadata": {},
   "source": [
    "13. Design Parking System\n",
    "Easy\n",
    "\n",
    "Design a parking system for a parking lot. The parking lot has three kinds of parking spaces: big, medium, and small, with a fixed number of slots for each size.\n",
    "\n",
    "Implement the ParkingSystem class:\n",
    "\n",
    "ParkingSystem(int big, int medium, int small) Initializes object of the ParkingSystem class. The number of slots for each parking space are given as part of the constructor.\n",
    "bool addCar(int carType) Checks whether there is a parking space of carType for the car that wants to get into the parking lot. carType can be of three kinds: big, medium, or small, which are represented by 1, 2, and 3 respectively. A car can only park in a parking space of its carType. If there is no space available, return false, else park the car in that size space and return true.\n",
    " \n",
    "\n",
    "Example 1:\n",
    "\n",
    "Input\n",
    "[\"ParkingSystem\", \"addCar\", \"addCar\", \"addCar\", \"addCar\"]\n",
    "[[1, 1, 0], [1], [2], [3], [1]]\n",
    "Output\n",
    "[null, true, true, false, false]\n",
    "\n",
    "Explanation\n",
    "ParkingSystem parkingSystem = new ParkingSystem(1, 1, 0);\n",
    "parkingSystem.addCar(1); // return true because there is 1 available slot for a big car\n",
    "parkingSystem.addCar(2); // return true because there is 1 available slot for a medium car\n",
    "parkingSystem.addCar(3); // return false because there is no available slot for a small car\n",
    "parkingSystem.addCar(1); // return false because there is no available slot for a big car. It is already occupied.\n",
    " \n",
    "\n",
    "Constraints:\n",
    "\n",
    "0 <= big, medium, small <= 1000\n",
    "carType is 1, 2, or 3\n",
    "At most 1000 calls will be made to addCar"
   ]
  },
  {
   "cell_type": "code",
   "execution_count": null,
   "metadata": {},
   "outputs": [],
   "source": [
    "class ParkingSystem:\n",
    "    def __init__(self, big: int, medium: int, small: int):\n",
    "        self.space = {\n",
    "            1: big,\n",
    "            2: medium,\n",
    "            3: small,\n",
    "        }\n",
    "\n",
    "    def addCar(self, carType: int) -> bool:\n",
    "        if self.space[carType] == 0:\n",
    "            return False\n",
    "        self.space[carType] -= 1\n",
    "        return True\n",
    "\n",
    "\n",
    "# Your ParkingSystem object will be instantiated and called as such:\n",
    "# obj = ParkingSystem(big, medium, small)\n",
    "# param_1 = obj.addCar(carType)"
   ]
  },
  {
   "cell_type": "markdown",
   "metadata": {},
   "source": [
    "THURSDAY 29th OCT, 2020"
   ]
  },
  {
   "cell_type": "markdown",
   "metadata": {},
   "source": [
    "14. Decompress Run-Length Encoded List\n",
    "Easy\n",
    "We are given a list nums of integers representing a list compressed with run-length encoding.\n",
    "\n",
    "Consider each adjacent pair of elements [freq, val] = [nums[2*i], nums[2*i+1]] (with i >= 0).  For each such pair, there are freq elements with value val concatenated in a sublist. Concatenate all the sublists from left to right to generate the decompressed list.\n",
    "\n",
    "Return the decompressed list.\n",
    "\n",
    " \n",
    "\n",
    "Example 1:\n",
    "\n",
    "Input: nums = [1,2,3,4]\n",
    "Output: [2,4,4,4]\n",
    "Explanation: The first pair [1,2] means we have freq = 1 and val = 2 so we generate the array [2].\n",
    "The second pair [3,4] means we have freq = 3 and val = 4 so we generate [4,4,4].\n",
    "At the end the concatenation [2] + [4,4,4] is [2,4,4,4].\n",
    "Example 2:\n",
    "\n",
    "Input: nums = [1,1,2,3]\n",
    "Output: [1,3,3]\n",
    " \n",
    "\n",
    "Constraints:\n",
    "\n",
    "2 <= nums.length <= 100\n",
    "nums.length % 2 == 0\n",
    "1 <= nums[i] <= 100"
   ]
  },
  {
   "cell_type": "code",
   "execution_count": null,
   "metadata": {},
   "outputs": [],
   "source": []
  },
  {
   "cell_type": "code",
   "execution_count": null,
   "metadata": {},
   "outputs": [],
   "source": [
    "class Solution:\n",
    "    def decompressRLElist(self, nums: List[int]) -> List[int]:\n",
    "        arr = []\n",
    "        for i in range(0, int(len(nums)/2)):\n",
    "            for k in range(0, nums[2*i]):\n",
    "                arr.append(nums[2*i+1])\n",
    "        return arr"
   ]
  },
  {
   "cell_type": "markdown",
   "metadata": {},
   "source": [
    "15. Sum of All Odd Length Subarrays\n",
    "Easy\n",
    "\n",
    "Given an array of positive integers arr, calculate the sum of all possible odd-length subarrays.\n",
    "\n",
    "A subarray is a contiguous subsequence of the array.\n",
    "\n",
    "Return the sum of all odd-length subarrays of arr.\n",
    "\n",
    " \n",
    "\n",
    "Example 1:\n",
    "\n",
    "Input: arr = [1,4,2,5,3]\n",
    "Output: 58\n",
    "Explanation: The odd-length subarrays of arr and their sums are:\n",
    "[1] = 1\n",
    "[4] = 4\n",
    "[2] = 2\n",
    "[5] = 5\n",
    "[3] = 3\n",
    "[1,4,2] = 7\n",
    "[4,2,5] = 11\n",
    "[2,5,3] = 10\n",
    "[1,4,2,5,3] = 15\n",
    "If we add all these together we get 1 + 4 + 2 + 5 + 3 + 7 + 11 + 10 + 15 = 58\n",
    "Example 2:\n",
    "\n",
    "Input: arr = [1,2]\n",
    "Output: 3\n",
    "Explanation: There are only 2 subarrays of odd length, [1] and [2]. Their sum is 3.\n",
    "Example 3:\n",
    "\n",
    "Input: arr = [10,11,12]\n",
    "Output: 66\n",
    " \n",
    "\n",
    "Constraints:\n",
    "\n",
    "1 <= arr.length <= 100\n",
    "1 <= arr[i] <= 1000\n"
   ]
  },
  {
   "cell_type": "code",
   "execution_count": 20,
   "metadata": {},
   "outputs": [
    {
     "name": "stdout",
     "output_type": "stream",
     "text": [
      "58\n"
     ]
    }
   ],
   "source": [
    "#Best Solution\n",
    "def sodd(arr):\n",
    "    res=0\n",
    "    freq=0\n",
    "    n=len(arr)\n",
    "    for i in range(n):\n",
    "        freq=freq-(i+1)//2+(n-i+1)//2\n",
    "        res+=freq*arr[i]\n",
    "    return res\n",
    "print(sodd([1,4,2,5,3]))"
   ]
  },
  {
   "cell_type": "code",
   "execution_count": 15,
   "metadata": {},
   "outputs": [
    {
     "name": "stdout",
     "output_type": "stream",
     "text": [
      "12\n"
     ]
    }
   ],
   "source": [
    "def sar(arr):\n",
    "    k=0\n",
    "    for i in range(1,len(arr),2):\n",
    "        for x in range(0, len(arr)):\n",
    "            ints=arr[x:x+i]\n",
    "            if len(ints)==i:\n",
    "                if len(ints)%2!=0:\n",
    "                    for p in ints:\n",
    "                        k+=p\n",
    "    if len(arr)%2!=0:\n",
    "        for i in range(len(arr)):\n",
    "            k+=arr[i]\n",
    "    return k\n",
    "print(sar([1,2,3]))"
   ]
  },
  {
   "cell_type": "code",
   "execution_count": 17,
   "metadata": {},
   "outputs": [
    {
     "data": {
      "text/plain": [
       "0"
      ]
     },
     "execution_count": 17,
     "metadata": {},
     "output_type": "execute_result"
    }
   ],
   "source": [
    "1//2"
   ]
  },
  {
   "cell_type": "markdown",
   "metadata": {},
   "source": [
    "Zip is used when it is required to do mapping of groups\n",
    "if end='' is used in print, thats t say that you want a space after the end of statement instead of a new line character"
   ]
  },
  {
   "cell_type": "code",
   "execution_count": 20,
   "metadata": {},
   "outputs": [
    {
     "name": "stdout",
     "output_type": "stream",
     "text": [
      "Player: Sachin  Score 100\n",
      "Player: Sehwag  Score 15\n",
      "Player: Gambhir  Score 17\n",
      "Player: Dravid  Score 28\n",
      "Player: Raina  Score 43\n"
     ]
    }
   ],
   "source": [
    "#Python code to demostrate application of zip\n",
    "players = [\"Sachin\",\"Sehwag\",\"Gambhir\",\"Dravid\",\"Raina\"]\n",
    "scores=[100,15,17,28,43]\n",
    "\n",
    "for pl,sc in zip(players,scores):\n",
    "    print(\"Player: %s  Score %d\" %(pl,sc))"
   ]
  },
  {
   "cell_type": "markdown",
   "metadata": {},
   "source": [
    "Python code to demonstrate the working of zip"
   ]
  },
  {
   "cell_type": "code",
   "execution_count": 24,
   "metadata": {},
   "outputs": [
    {
     "name": "stdout",
     "output_type": "stream",
     "text": [
      "The zipped result is: {('Astha', 2, 70), ('Shambhav', 3, 60), ('Manjeet', 4, 40), ('Nikhil', 1, 50)}\n",
      "The unzipped result: \n",
      "the name list is: ('Astha', 'Shambhav', 'Manjeet', 'Nikhil')\n",
      "The rollz list is: (2, 3, 4, 1)\n",
      "The markz list is: (70, 60, 40, 50)\n"
     ]
    }
   ],
   "source": [
    "name = [\"Manjeet\",\"Nikhil\",\"Shambhav\",\"Astha\"]\n",
    "roll_no =[4,1,3,2]\n",
    "marks = [40,50,60,70]\n",
    "\n",
    "mapped =zip(name,roll_no,marks)\n",
    "mapped = set(mapped)\n",
    "\n",
    "print(\"The zipped result is: \", end=\"\")\n",
    "print(mapped)\n",
    "\n",
    "#unzipping\n",
    "\n",
    "namz, rollz, markz =zip(*mapped)\n",
    "print(\"The unzipped result: \\n\", end=\"\")\n",
    "print(\"the name list is: \", end=\"\")\n",
    "print(namz)\n",
    "print(\"The rollz list is: \",end=\"\")\n",
    "print(rollz)\n",
    "print(\"The markz list is: \", end=\"\")\n",
    "print(markz)\n"
   ]
  },
  {
   "cell_type": "markdown",
   "metadata": {},
   "source": [
    "16. Minimum Time Visiting All Points\n",
    "Easy\n",
    "\n",
    "On a plane there are n points with integer coordinates points[i] = [xi, yi]. Your task is to find the minimum time in seconds to visit all points.\n",
    "\n",
    "You can move according to the next rules:\n",
    "\n",
    "In one second always you can either move vertically, horizontally by one unit or diagonally (it means to move one unit vertically and one unit horizontally in one second).\n",
    "You have to visit the points in the same order as they appear in the array.\n",
    " \n",
    "\n",
    "Example 1:\n",
    "\n",
    "\n",
    "Input: points = [[1,1],[3,4],[-1,0]]\n",
    "Output: 7\n",
    "Explanation: One optimal path is [1,1] -> [2,2] -> [3,3] -> [3,4] -> [2,3] -> [1,2] -> [0,1] -> [-1,0]   \n",
    "Time from [1,1] to [3,4] = 3 seconds \n",
    "Time from [3,4] to [-1,0] = 4 seconds\n",
    "Total time = 7 seconds\n",
    "Example 2:\n",
    "\n",
    "Input: points = [[3,2],[-2,2]]\n",
    "Output: 5\n",
    " \n",
    "\n",
    "Constraints:\n",
    "\n",
    "points.length == n\n",
    "1 <= n <= 100\n",
    "points[i].length == 2\n",
    "-1000 <= points[i][0], points[i][1] <= 1000"
   ]
  },
  {
   "cell_type": "code",
   "execution_count": 32,
   "metadata": {},
   "outputs": [
    {
     "name": "stdout",
     "output_type": "stream",
     "text": [
      "7\n"
     ]
    }
   ],
   "source": [
    "def mint(points):\n",
    "    return sum(max(abs(x1-x2),abs(y1-y2)) for (x1,y1), (x2,y2) in zip(points,points[1:]))\n",
    "print(mint([[1,1],[3,4],[-1,0]]))"
   ]
  },
  {
   "cell_type": "markdown",
   "metadata": {},
   "source": [
    "17. Count Good Triplets\n",
    "Easy\n",
    "\n",
    "Given an array of integers arr, and three integers a, b and c. You need to find the number of good triplets.\n",
    "\n",
    "A triplet (arr[i], arr[j], arr[k]) is good if the following conditions are true:\n",
    "\n",
    "0 <= i < j < k < arr.length\n",
    "|arr[i] - arr[j]| <= a\n",
    "|arr[j] - arr[k]| <= b\n",
    "|arr[i] - arr[k]| <= c\n",
    "Where |x| denotes the absolute value of x.\n",
    "\n",
    "Return the number of good triplets.\n",
    "\n",
    " \n",
    "\n",
    "Example 1:\n",
    "\n",
    "Input: arr = [3,0,1,1,9,7], a = 7, b = 2, c = 3\n",
    "Output: 4\n",
    "Explanation: There are 4 good triplets: [(3,0,1), (3,0,1), (3,1,1), (0,1,1)].\n",
    "Example 2:\n",
    "\n",
    "Input: arr = [1,1,2,2,3], a = 0, b = 0, c = 1\n",
    "Output: 0\n",
    "Explanation: No triplet satisfies all conditions.\n",
    " \n",
    "\n",
    "Constraints:\n",
    "\n",
    "3 <= arr.length <= 100\n",
    "0 <= arr[i] <= 1000\n",
    "0 <= a, b, c <= 1000\n"
   ]
  },
  {
   "cell_type": "code",
   "execution_count": null,
   "metadata": {},
   "outputs": [],
   "source": [
    "class Solution:\n",
    "    def countGoodTriplets(self, arr: List[int], a: int, b: int, c: int) -> int:\n",
    "        ct=0\n",
    "        n=len(arr)\n",
    "        for i in range(0,n-2):\n",
    "            for j in range(i+1,n-1):\n",
    "                if abs(arr[i]-arr[j])<=a:\n",
    "                    for k in range(j+1,n):\n",
    "                        if (abs(arr[j]-arr[k])<=b and abs(arr[i]-arr[k])<=c):\n",
    "                            ct+=1\n",
    "        return ct"
   ]
  },
  {
   "cell_type": "markdown",
   "metadata": {},
   "source": [
    "18. Create Target Array in the Given Order\n",
    "Easy\n",
    "\n",
    "Given two arrays of integers nums and index. Your task is to create target array under the following rules:\n",
    "\n",
    "Initially target array is empty.\n",
    "From left to right read nums[i] and index[i], insert at index index[i] the value nums[i] in target array.\n",
    "Repeat the previous step until there are no elements to read in nums and index.\n",
    "Return the target array.\n",
    "\n",
    "It is guaranteed that the insertion operations will be valid.\n",
    "\n",
    " \n",
    "\n",
    "Example 1:\n",
    "\n",
    "Input: nums = [0,1,2,3,4], index = [0,1,2,2,1]\n",
    "Output: [0,4,1,3,2]\n",
    "Explanation:\n",
    "nums       index     target\n",
    "0            0        [0]\n",
    "1            1        [0,1]\n",
    "2            2        [0,1,2]\n",
    "3            2        [0,1,3,2]\n",
    "4            1        [0,4,1,3,2]\n",
    "Example 2:\n",
    "\n",
    "Input: nums = [1,2,3,4,0], index = [0,1,2,3,0]\n",
    "Output: [0,1,2,3,4]\n",
    "Explanation:\n",
    "nums       index     target\n",
    "1            0        [1]\n",
    "2            1        [1,2]\n",
    "3            2        [1,2,3]\n",
    "4            3        [1,2,3,4]\n",
    "0            0        [0,1,2,3,4]\n",
    "Example 3:\n",
    "\n",
    "Input: nums = [1], index = [0]\n",
    "Output: [1]\n",
    " \n",
    "\n",
    "Constraints:\n",
    "\n",
    "1 <= nums.length, index.length <= 100\n",
    "nums.length == index.length\n",
    "0 <= nums[i] <= 100\n",
    "0 <= index[i] <= i"
   ]
  },
  {
   "cell_type": "code",
   "execution_count": null,
   "metadata": {},
   "outputs": [],
   "source": [
    "class Solution:\n",
    "    def createTargetArray(self, nums: List[int], index: List[int]) -> List[int]:\n",
    "        target=[]*len(nums)\n",
    "        for i in range(len(nums)):\n",
    "            target.insert(index[i],nums[i])\n",
    "        return target\n",
    "            "
   ]
  },
  {
   "cell_type": "markdown",
   "metadata": {},
   "source": [
    "19. XOR Operation in an Array\n",
    "Easy\n",
    "\n",
    "Given an integer n and an integer start.\n",
    "\n",
    "Define an array nums where nums[i] = start + 2*i (0-indexed) and n == nums.length.\n",
    "\n",
    "Return the bitwise XOR of all elements of nums.\n",
    "\n",
    " \n",
    "\n",
    "Example 1:\n",
    "\n",
    "Input: n = 5, start = 0\n",
    "Output: 8\n",
    "Explanation: Array nums is equal to [0, 2, 4, 6, 8] where (0 ^ 2 ^ 4 ^ 6 ^ 8) = 8.\n",
    "Where \"^\" corresponds to bitwise XOR operator.\n",
    "Example 2:\n",
    "\n",
    "Input: n = 4, start = 3\n",
    "Output: 8\n",
    "Explanation: Array nums is equal to [3, 5, 7, 9] where (3 ^ 5 ^ 7 ^ 9) = 8.\n",
    "Example 3:\n",
    "\n",
    "Input: n = 1, start = 7\n",
    "Output: 7\n",
    "Example 4:\n",
    "\n",
    "Input: n = 10, start = 5\n",
    "Output: 2\n",
    " \n",
    "\n",
    "Constraints:\n",
    "\n",
    "1 <= n <= 1000\n",
    "0 <= start <= 1000\n",
    "n == nums.length"
   ]
  },
  {
   "cell_type": "code",
   "execution_count": null,
   "metadata": {},
   "outputs": [],
   "source": [
    "class Solution:\n",
    "    def xorOperation(self, n: int, start: int) -> int:\n",
    "        nums=[\"\"]*n\n",
    "        for i in range(n):\n",
    "            nums[i]= (start+2*i)\n",
    "        x=nums[0]\n",
    "        for i in range(1,n):\n",
    "            x^=nums[i]\n",
    "        return x"
   ]
  },
  {
   "cell_type": "markdown",
   "metadata": {},
   "source": [
    "20. Split a String in Balanced Strings\n",
    "Easy\n",
    "\n",
    "Balanced strings are those who have equal quantity of 'L' and 'R' characters.\n",
    "\n",
    "Given a balanced string s split it in the maximum amount of balanced strings.\n",
    "\n",
    "Return the maximum amount of splitted balanced strings.\n",
    "\n",
    " \n",
    "\n",
    "Example 1:\n",
    "\n",
    "Input: s = \"RLRRLLRLRL\"\n",
    "Output: 4\n",
    "Explanation: s can be split into \"RL\", \"RRLL\", \"RL\", \"RL\", each substring contains same number of 'L' and 'R'.\n",
    "Example 2:\n",
    "\n",
    "Input: s = \"RLLLLRRRLR\"\n",
    "Output: 3\n",
    "Explanation: s can be split into \"RL\", \"LLLRRR\", \"LR\", each substring contains same number of 'L' and 'R'.\n",
    "Example 3:\n",
    "\n",
    "Input: s = \"LLLLRRRR\"\n",
    "Output: 1\n",
    "Explanation: s can be split into \"LLLLRRRR\".\n",
    "Example 4:\n",
    "\n",
    "Input: s = \"RLRRRLLRLL\"\n",
    "Output: 2\n",
    "Explanation: s can be split into \"RL\", \"RRRLLRLL\", since each substring contains an equal number of 'L' and 'R'\n",
    " \n",
    "\n",
    "Constraints:\n",
    "\n",
    "1 <= s.length <= 1000\n",
    "s[i] = 'L' or 'R'\n"
   ]
  },
  {
   "cell_type": "code",
   "execution_count": null,
   "metadata": {},
   "outputs": [],
   "source": [
    "class Solution:\n",
    "    def balancedStringSplit(self, s: str) -> int:\n",
    "        count, R, L=0,0,0\n",
    "        for i in s:\n",
    "            if i=='R':\n",
    "                R+=1\n",
    "            else:\n",
    "                L+=1\n",
    "            if(R==L and R>0):\n",
    "                count+=1\n",
    "                R,L=0,0\n",
    "        return count\n",
    "    \n",
    "        "
   ]
  },
  {
   "cell_type": "markdown",
   "metadata": {},
   "source": [
    "ASCII value of 'A'-'Z' ranges from 65-90 and that of 'a'-'z' ranges from 97-122\n",
    "\n",
    "ord(arr[i]) is used to fing ASCII value of arr[i]\n",
    "chr(a+32) returns a character from an integer representation of unicode \n"
   ]
  },
  {
   "cell_type": "markdown",
   "metadata": {},
   "source": [
    "IMPORT: LINKED LIST concept\n",
    "https://medium.com/@kojinoshiba/data-structures-in-python-series-1-linked-lists-d9f848537b4d\n"
   ]
  },
  {
   "cell_type": "markdown",
   "metadata": {},
   "source": [
    "21. Convert Binary Number in a Linked List to Integer\n",
    "Easy\n",
    "Given head which is a reference node to a singly-linked list. The value of each node in the linked list is either 0 or 1. The linked list holds the binary representation of a number.\n",
    "\n",
    "Return the decimal value of the number in the linked list.\n",
    "\n",
    " \n",
    "\n",
    "Example 1:\n",
    "\n",
    "\n",
    "Input: head = [1,0,1]\n",
    "Output: 5\n",
    "Explanation: (101) in base 2 = (5) in base 10\n",
    "Example 2:\n",
    "\n",
    "Input: head = [0]\n",
    "Output: 0\n",
    "Example 3:\n",
    "\n",
    "Input: head = [1]\n",
    "Output: 1\n",
    "Example 4:\n",
    "\n",
    "Input: head = [1,0,0,1,0,0,1,1,1,0,0,0,0,0,0]\n",
    "Output: 18880\n",
    "Example 5:\n",
    "\n",
    "Input: head = [0,0]\n",
    "Output: 0\n",
    " \n",
    "\n",
    "Constraints:\n",
    "\n",
    "The Linked List is not empty.\n",
    "Number of nodes will not exceed 30.\n",
    "Each node's value is either 0 or 1.\n"
   ]
  },
  {
   "cell_type": "code",
   "execution_count": null,
   "metadata": {},
   "outputs": [],
   "source": [
    "# Definition for singly-linked list.\n",
    "# class ListNode:\n",
    "#     def __init__(self, val=0, next=None):\n",
    "#         self.val = val\n",
    "#         self.next = next\n",
    "class Solution:\n",
    "    def getDecimalValue(self, head: ListNode) -> int:\n",
    "        num=head.val\n",
    "        while head.next:\n",
    "            num=num*2+head.next.val\n",
    "            head = head.next\n",
    "        return num"
   ]
  },
  {
   "cell_type": "code",
   "execution_count": null,
   "metadata": {},
   "outputs": [],
   "source": [
    "# Definition for singly-linked list.\n",
    "# class ListNode:\n",
    "#     def __init__(self, val=0, next=None):\n",
    "#         self.val = val\n",
    "#         self.next = next\n",
    "class Solution:\n",
    "    def getDecimalValue(self, head: ListNode) -> int:\n",
    "        res=[]\n",
    "        node=head\n",
    "        while node:\n",
    "            res.append(str(node.val))\n",
    "            node=node.next\n",
    "        combined=\"\".join(res)\n",
    "        return int(combined,2)\n",
    "            "
   ]
  },
  {
   "cell_type": "markdown",
   "metadata": {},
   "source": [
    "22. Range Sum of BST\n",
    "Easy\n",
    "\n",
    "Given the root node of a binary search tree, return the sum of values of all nodes with value between L and R (inclusive).\n",
    "\n",
    "The binary search tree is guaranteed to have unique values.\n",
    "\n",
    " \n",
    "\n",
    "Example 1:\n",
    "\n",
    "Input: root = [10,5,15,3,7,null,18], L = 7, R = 15\n",
    "Output: 32\n",
    "Example 2:\n",
    "\n",
    "Input: root = [10,5,15,3,7,13,18,1,null,6], L = 6, R = 10\n",
    "Output: 23\n",
    " \n",
    "\n",
    "Note:\n",
    "\n",
    "The number of nodes in the tree is at most 10000.\n",
    "The final answer is guaranteed to be less than 2^31.\n"
   ]
  },
  {
   "cell_type": "code",
   "execution_count": null,
   "metadata": {},
   "outputs": [],
   "source": [
    "# Definition for a binary tree node.\n",
    "# class TreeNode:\n",
    "#     def __init__(self, val=0, left=None, right=None):\n",
    "#         self.val = val\n",
    "#         self.left = left\n",
    "#         self.right = right\n",
    "class Solution:\n",
    "    def rangeSumBST(self, root: TreeNode, L: int, R: int) -> int:\n",
    "        stack=[root]\n",
    "        sum=0\n",
    "        while stack:\n",
    "            node=stack.pop()\n",
    "            if node:\n",
    "                if L<=node.val<=R:\n",
    "                    sum+= node.val\n",
    "                if L<node.val:\n",
    "                    stack.append(node.left)\n",
    "                if node.val<R:\n",
    "                    stack.append(node.right)\n",
    "        return sum\n",
    "            "
   ]
  },
  {
   "cell_type": "markdown",
   "metadata": {},
   "source": [
    "\n",
    "FRIDAY OCT 30, 2020"
   ]
  },
  {
   "cell_type": "markdown",
   "metadata": {},
   "source": [
    "1. Destination City\n",
    "Easy\n",
    "\n",
    "You are given the array paths, where paths[i] = [cityAi, cityBi] means there exists a direct path going from cityAi to cityBi. Return the destination city, that is, the city without any path outgoing to another city.\n",
    "\n",
    "It is guaranteed that the graph of paths forms a line without any loop, therefore, there will be exactly one destination city.\n",
    "\n",
    " \n",
    "\n",
    "Example 1:\n",
    "\n",
    "Input: paths = [[\"London\",\"New York\"],[\"New York\",\"Lima\"],[\"Lima\",\"Sao Paulo\"]]\n",
    "Output: \"Sao Paulo\" \n",
    "Explanation: Starting at \"London\" city you will reach \"Sao Paulo\" city which is the destination city. Your trip consist of: \"London\" -> \"New York\" -> \"Lima\" -> \"Sao Paulo\".\n",
    "Example 2:\n",
    "\n",
    "Input: paths = [[\"B\",\"C\"],[\"D\",\"B\"],[\"C\",\"A\"]]\n",
    "Output: \"A\"\n",
    "Explanation: All possible trips are: \n",
    "\"D\" -> \"B\" -> \"C\" -> \"A\". \n",
    "\"B\" -> \"C\" -> \"A\". \n",
    "\"C\" -> \"A\". \n",
    "\"A\". \n",
    "Clearly the destination city is \"A\".\n",
    "Example 3:\n",
    "\n",
    "Input: paths = [[\"A\",\"Z\"]]\n",
    "Output: \"Z\"\n",
    " \n",
    "\n",
    "Constraints:\n",
    "\n",
    "1 <= paths.length <= 100\n",
    "paths[i].length == 2\n",
    "1 <= cityAi.length, cityBi.length <= 10\n",
    "cityAi != cityBi\n",
    "All strings consist of lowercase and uppercase English letters and the space character."
   ]
  },
  {
   "cell_type": "code",
   "execution_count": 9,
   "metadata": {},
   "outputs": [
    {
     "name": "stdout",
     "output_type": "stream",
     "text": [
      "{'London': 1, 'New York': 2, 'Lima': 2, 'Sao Paulo': 1}\n",
      "Sao Paulo\n"
     ]
    }
   ],
   "source": [
    "def des(paths):\n",
    "    cf=dict()\n",
    "    for c in paths:\n",
    "        if c[0] in cf:\n",
    "            cf[c[0]]+=1\n",
    "        else:\n",
    "            cf[c[0]]=1\n",
    "        if c[1] in cf:\n",
    "            cf[c[1]]+=1\n",
    "        else:\n",
    "            cf[c[1]]=1\n",
    "    print(cf)\n",
    "    for c in paths:\n",
    "        if cf[c[1]]==1:\n",
    "            return c[1]\n",
    "            \n",
    "        \n",
    "print(des([[\"London\",\"New York\"],[\"New York\",\"Lima\"],[\"Lima\",\"Sao Paulo\"]]))"
   ]
  },
  {
   "cell_type": "code",
   "execution_count": 15,
   "metadata": {},
   "outputs": [
    {
     "name": "stdout",
     "output_type": "stream",
     "text": [
      "[['London', 'New York'], ['New York', 'Lima'], ['Lima', 'Sao Paulo']]\n",
      "('New York', 'Lima', 'Sao Paulo')\n",
      "('London', 'New York', 'Lima')\n",
      "Sao Paulo\n"
     ]
    }
   ],
   "source": [
    "def des(paths):\n",
    "    depar,dest=zip(*paths)\n",
    "    print(paths)\n",
    "    #print(zipper)\n",
    "    #lister =list(zipper)\n",
    "    #print(lister)\n",
    "    #dest = lister[1]\n",
    "    print(dest)\n",
    "    #depar = lister[0]\n",
    "    print(depar)\n",
    "    for city in dest:\n",
    "        if city not in depar:\n",
    "            return city\n",
    "print(des([[\"London\",\"New York\"],[\"New York\",\"Lima\"],[\"Lima\",\"Sao Paulo\"]]))"
   ]
  },
  {
   "cell_type": "code",
   "execution_count": 17,
   "metadata": {},
   "outputs": [
    {
     "name": "stdout",
     "output_type": "stream",
     "text": [
      "Sao Paulo\n"
     ]
    }
   ],
   "source": [
    "def dest(paths):\n",
    "    departure,destination = zip(*paths)\n",
    "    for city in destination:\n",
    "        if city not in departure:\n",
    "            return city\n",
    "print(dest([[\"London\",\"New York\"],[\"New York\",\"Lima\"],[\"Lima\",\"Sao Paulo\"]]))"
   ]
  },
  {
   "cell_type": "markdown",
   "metadata": {},
   "source": [
    "2. Maximum Product of Two Elements in an Array\n",
    "Easy\n",
    "\n",
    "Given the array of integers nums, you will choose two different indices i and j of that array. Return the maximum value of (nums[i]-1)*(nums[j]-1).\n",
    " \n",
    "\n",
    "Example 1:\n",
    "\n",
    "Input: nums = [3,4,5,2]\n",
    "Output: 12 \n",
    "Explanation: If you choose the indices i=1 and j=2 (indexed from 0), you will get the maximum value, that is, (nums[1]-1)*(nums[2]-1) = (4-1)*(5-1) = 3*4 = 12. \n",
    "Example 2:\n",
    "\n",
    "Input: nums = [1,5,4,5]\n",
    "Output: 16\n",
    "Explanation: Choosing the indices i=1 and j=3 (indexed from 0), you will get the maximum value of (5-1)*(5-1) = 16.\n",
    "Example 3:\n",
    "\n",
    "Input: nums = [3,7]\n",
    "Output: 12\n",
    " \n",
    "\n",
    "Constraints:\n",
    "\n",
    "2 <= nums.length <= 500\n",
    "1 <= nums[i] <= 10^3"
   ]
  },
  {
   "cell_type": "code",
   "execution_count": 1,
   "metadata": {},
   "outputs": [
    {
     "name": "stdout",
     "output_type": "stream",
     "text": [
      "12\n"
     ]
    }
   ],
   "source": [
    "def maxP(nums):\n",
    "    maxe=0\n",
    "    n=len(nums)\n",
    "    for i in range(n):\n",
    "        for j in range(i+1,n):\n",
    "            x=(nums[i]-1)*(nums[j]-1)\n",
    "            if maxe<x:\n",
    "                maxe=x\n",
    "    return maxe\n",
    "print(maxP([3,7]))"
   ]
  },
  {
   "cell_type": "code",
   "execution_count": 5,
   "metadata": {},
   "outputs": [
    {
     "name": "stdout",
     "output_type": "stream",
     "text": [
      "12\n"
     ]
    }
   ],
   "source": [
    "#using nlargest\n",
    "from heapq import nlargest\n",
    "def maxP(nums):\n",
    "    a,b = nlargest(2,nums)\n",
    "    return (a-1)*(b-1)\n",
    "print(maxP([3,7]))"
   ]
  },
  {
   "cell_type": "markdown",
   "metadata": {},
   "source": [
    "3. Find N Unique Integers Sum up to Zero\n",
    "Easy\n",
    "\n",
    "Given an integer n, return any array containing n unique integers such that they add up to 0.\n",
    "\n",
    " \n",
    "\n",
    "Example 1:\n",
    "\n",
    "Input: n = 5\n",
    "Output: [-7,-1,1,3,4]\n",
    "Explanation: These arrays also are accepted [-5,-1,1,2,3] , [-3,-1,2,-2,4].\n",
    "Example 2:\n",
    "\n",
    "Input: n = 3\n",
    "Output: [-1,0,1]\n",
    "Example 3:\n",
    "\n",
    "Input: n = 1\n",
    "Output: [0]\n",
    " \n",
    "\n",
    "Constraints:\n",
    "\n",
    "1 <= n <= 1000\n"
   ]
  },
  {
   "cell_type": "code",
   "execution_count": 6,
   "metadata": {},
   "outputs": [
    {
     "name": "stdout",
     "output_type": "stream",
     "text": [
      "[-2, -1, 0, 1, 2]\n"
     ]
    }
   ],
   "source": [
    "def nuniq(n):\n",
    "    mid=n//2\n",
    "    if n&1:\n",
    "        return [num for num in range(-mid,mid+1)]\n",
    "    else:\n",
    "        return [num for num in range(-mid,mid+1) if num!=0]\n",
    "print(nuniq(5))"
   ]
  },
  {
   "cell_type": "markdown",
   "metadata": {},
   "source": [
    "4. Number of Students Doing Homework at a Given Time\n",
    "Easy\n",
    "\n",
    "Given two integer arrays startTime and endTime and given an integer queryTime.\n",
    "\n",
    "The ith student started doing their homework at the time startTime[i] and finished it at time endTime[i].\n",
    "\n",
    "Return the number of students doing their homework at time queryTime. More formally, return the number of students where queryTime lays in the interval [startTime[i], endTime[i]] inclusive.\n",
    "\n",
    " \n",
    "\n",
    "Example 1:\n",
    "\n",
    "Input: startTime = [1,2,3], endTime = [3,2,7], queryTime = 4\n",
    "Output: 1\n",
    "Explanation: We have 3 students where:\n",
    "The first student started doing homework at time 1 and finished at time 3 and wasn't doing anything at time 4.\n",
    "The second student started doing homework at time 2 and finished at time 2 and also wasn't doing anything at time 4.\n",
    "The third student started doing homework at time 3 and finished at time 7 and was the only student doing homework at time 4.\n",
    "Example 2:\n",
    "\n",
    "Input: startTime = [4], endTime = [4], queryTime = 4\n",
    "Output: 1\n",
    "Explanation: The only student was doing their homework at the queryTime.\n",
    "Example 3:\n",
    "\n",
    "Input: startTime = [4], endTime = [4], queryTime = 5\n",
    "Output: 0\n",
    "Example 4:\n",
    "\n",
    "Input: startTime = [1,1,1,1], endTime = [1,3,2,4], queryTime = 7\n",
    "Output: 0\n",
    "Example 5:\n",
    "\n",
    "Input: startTime = [9,8,7,6,5,4,3,2,1], endTime = [10,10,10,10,10,10,10,10,10], queryTime = 5\n",
    "Output: 5\n",
    " \n",
    "\n",
    "Constraints:\n",
    "\n",
    "startTime.length == endTime.length\n",
    "1 <= startTime.length <= 100\n",
    "1 <= startTime[i] <= endTime[i] <= 1000\n",
    "1 <= queryTime <= 1000"
   ]
  },
  {
   "cell_type": "code",
   "execution_count": 13,
   "metadata": {},
   "outputs": [
    {
     "name": "stdout",
     "output_type": "stream",
     "text": [
      "[(1, 3), (2, 2), (3, 7)]\n",
      "1\n"
     ]
    }
   ],
   "source": [
    "def dhq(st,et,qt):\n",
    "    dh=list(zip(st,et))\n",
    "    o=0\n",
    "    print(dh)\n",
    "    for t in dh:\n",
    "        if t[0]<=qt<=t[1]:\n",
    "            o+=1\n",
    "    return o\n",
    "print(dhq([1,2,3],[3,2,7],4))"
   ]
  },
  {
   "cell_type": "markdown",
   "metadata": {},
   "source": [
    "5. Self Dividing Numbers\n",
    "Easy\n",
    "\n",
    "A self-dividing number is a number that is divisible by every digit it contains.\n",
    "\n",
    "For example, 128 is a self-dividing number because 128 % 1 == 0, 128 % 2 == 0, and 128 % 8 == 0.\n",
    "\n",
    "Also, a self-dividing number is not allowed to contain the digit zero.\n",
    "\n",
    "Given a lower and upper number bound, output a list of every possible self dividing number, including the bounds if possible.\n",
    "\n",
    "Example 1:\n",
    "\n",
    "Input: \n",
    "left = 1, right = 22\n",
    "Output: [1, 2, 3, 4, 5, 6, 7, 8, 9, 11, 12, 15, 22]\n",
    "Note:\n",
    "\n",
    "The boundaries of each input argument are 1 <= left <= right <= 10000."
   ]
  },
  {
   "cell_type": "code",
   "execution_count": 40,
   "metadata": {},
   "outputs": [
    {
     "name": "stdout",
     "output_type": "stream",
     "text": [
      "[1, 2, 3, 4, 5, 6, 7, 8, 9, 11, 12, 15, 21, 22]\n"
     ]
    }
   ],
   "source": [
    "def sed(left,right):\n",
    "    def sd(n):\n",
    "        x=n\n",
    "        x,d = divmod(x,10)\n",
    "        if d==0 or n%d>0:\n",
    "            return False\n",
    "        return True\n",
    "    ans=[]\n",
    "    for n in range(left, right+1):\n",
    "        if sd(n):\n",
    "            ans.append(n)\n",
    "    return ans\n",
    "print(sed(1,22))\n",
    "    \n",
    "       \n",
    "            \n",
    "        "
   ]
  },
  {
   "cell_type": "code",
   "execution_count": 16,
   "metadata": {},
   "outputs": [
    {
     "data": {
      "text/plain": [
       "1"
      ]
     },
     "execution_count": 16,
     "metadata": {},
     "output_type": "execute_result"
    }
   ],
   "source": [
    "1%10"
   ]
  },
  {
   "cell_type": "code",
   "execution_count": 27,
   "metadata": {},
   "outputs": [
    {
     "data": {
      "text/plain": [
       "(0, 1)"
      ]
     },
     "execution_count": 27,
     "metadata": {},
     "output_type": "execute_result"
    }
   ],
   "source": [
    "divmod(1,10)"
   ]
  },
  {
   "cell_type": "code",
   "execution_count": 33,
   "metadata": {},
   "outputs": [
    {
     "data": {
      "text/plain": [
       "(2, 1)"
      ]
     },
     "execution_count": 33,
     "metadata": {},
     "output_type": "execute_result"
    }
   ],
   "source": [
    "divmod(5,2)"
   ]
  },
  {
   "cell_type": "markdown",
   "metadata": {},
   "source": [
    "6. Sort Array By Parity\n",
    "Easy\n",
    "\n",
    "Given an array A of non-negative integers, return an array consisting of all the even elements of A, followed by all the odd elements of A.\n",
    "\n",
    "You may return any answer array that satisfies this condition.\n",
    "\n",
    " \n",
    "\n",
    "Example 1:\n",
    "\n",
    "Input: [3,1,2,4]\n",
    "Output: [2,4,3,1]\n",
    "The outputs [4,2,3,1], [2,4,1,3], and [4,2,1,3] would also be accepted.\n",
    " \n",
    "\n",
    "Note:\n",
    "\n",
    "1 <= A.length <= 5000\n",
    "0 <= A[i] <= 5000"
   ]
  },
  {
   "cell_type": "code",
   "execution_count": 48,
   "metadata": {},
   "outputs": [
    {
     "name": "stdout",
     "output_type": "stream",
     "text": [
      "[2, 4, 3, 1]\n"
     ]
    }
   ],
   "source": [
    "def sa(A):\n",
    "    e=[]\n",
    "    o=[]\n",
    "    for a in A:\n",
    "        if a%2==0:\n",
    "            e.append(a)\n",
    "        else:\n",
    "            o.append(a)\n",
    "    \n",
    "    #return e+a\n",
    "    #e.extend(o)\n",
    "    #return e\n",
    "    l3=[*e,*o]\n",
    "    return l3\n",
    "print(sa([3,1,2,4]))"
   ]
  },
  {
   "cell_type": "markdown",
   "metadata": {},
   "source": [
    "Concatenate/Merge/Join Lists\n",
    "https://www.pythonpool.com/python-combine-lists/\n"
   ]
  },
  {
   "cell_type": "markdown",
   "metadata": {},
   "source": [
    "7. N-Repeated Element in Size 2N Array\n",
    "Easy\n",
    "\n",
    "529\n",
    "\n",
    "247\n",
    "\n",
    "Add to List\n",
    "\n",
    "Share\n",
    "In a array A of size 2N, there are N+1 unique elements, and exactly one of these elements is repeated N times.\n",
    "\n",
    "Return the element repeated N times.\n",
    "\n",
    " \n",
    "\n",
    "Example 1:\n",
    "\n",
    "Input: [1,2,3,3]\n",
    "Output: 3\n",
    "Example 2:\n",
    "\n",
    "Input: [2,1,2,5,3,2]\n",
    "Output: 2\n",
    "Example 3:\n",
    "\n",
    "Input: [5,1,5,2,5,3,5,4]\n",
    "Output: 5\n",
    " \n",
    "\n",
    "Note:\n",
    "\n",
    "4 <= A.length <= 10000\n",
    "0 <= A[i] < 10000\n",
    "A.length is even\n"
   ]
  },
  {
   "cell_type": "code",
   "execution_count": 50,
   "metadata": {},
   "outputs": [
    {
     "name": "stdout",
     "output_type": "stream",
     "text": [
      "3\n"
     ]
    }
   ],
   "source": [
    "import collections\n",
    "def ct(A):\n",
    "    count=collections.Counter(A)\n",
    "    for k in count:\n",
    "        if count[k]>1:\n",
    "            return k\n",
    "print(ct([1,2,3,3]))"
   ]
  },
  {
   "cell_type": "markdown",
   "metadata": {},
   "source": [
    "8. Unique Number of Occurrences\n",
    "Easy\n",
    "\n",
    "Given an array of integers arr, write a function that returns true if and only if the number of occurrences of each value in the array is unique.\n",
    "\n",
    " \n",
    "\n",
    "Example 1:\n",
    "\n",
    "Input: arr = [1,2,2,1,1,3]\n",
    "Output: true\n",
    "Explanation: The value 1 has 3 occurrences, 2 has 2 and 3 has 1. No two values have the same number of occurrences.\n",
    "Example 2:\n",
    "\n",
    "Input: arr = [1,2]\n",
    "Output: false\n",
    "Example 3:\n",
    "\n",
    "Input: arr = [-3,0,1,-3,1,1,1,-3,10,0]\n",
    "Output: true\n",
    " \n",
    "\n",
    "Constraints:\n",
    "\n",
    "1 <= arr.length <= 1000\n",
    "-1000 <= arr[i] <= 1000"
   ]
  },
  {
   "cell_type": "code",
   "execution_count": 52,
   "metadata": {},
   "outputs": [
    {
     "name": "stdout",
     "output_type": "stream",
     "text": [
      "True\n"
     ]
    }
   ],
   "source": [
    "# Using Counter\n",
    "def uniq(A):\n",
    "    count=collections.Counter(A)\n",
    "    return len(count)==len(set(count.values()))\n",
    "print(uniq([1,2,2,1,1,3]))"
   ]
  },
  {
   "cell_type": "code",
   "execution_count": 54,
   "metadata": {},
   "outputs": [
    {
     "name": "stdout",
     "output_type": "stream",
     "text": [
      "True\n"
     ]
    }
   ],
   "source": [
    "#HashMap\n",
    "def uniq(A):\n",
    "    if len(A)<1 and A: return True\n",
    "    dic ={}\n",
    "    for i in A:\n",
    "        if i in dic.keys():\n",
    "            dic[i]+=1\n",
    "        else:\n",
    "            dic[i]=1\n",
    "    return len(dic.values())==len(set(dic.values()))\n",
    "print(uniq([1,2,2,1,1,3]))\n",
    "    "
   ]
  },
  {
   "cell_type": "markdown",
   "metadata": {},
   "source": [
    "9. Number of Recent Calls\n",
    "Easy\n",
    "\n",
    "You have a RecentCounter class which counts the number of recent requests within a certain time frame.\n",
    "\n",
    "Implement the RecentCounter class:\n",
    "\n",
    "RecentCounter() Initializes the counter with zero recent requests.\n",
    "int ping(int t) Adds a new request at time t, where t represents some time in milliseconds, and returns the number of requests that has happened in the past 3000 milliseconds (including the new request). Specifically, return the number of requests that have happened in the inclusive range [t - 3000, t].\n",
    "It is guaranteed that every call to ping uses a strictly larger value of t than the previous call.\n",
    "\n",
    " \n",
    "\n",
    "Example 1:\n",
    "\n",
    "Input\n",
    "[\"RecentCounter\", \"ping\", \"ping\", \"ping\", \"ping\"]\n",
    "[[], [1], [100], [3001], [3002]]\n",
    "Output\n",
    "[null, 1, 2, 3, 3]\n",
    "\n",
    "Explanation\n",
    "RecentCounter recentCounter = new RecentCounter();\n",
    "recentCounter.ping(1);     // requests = [1], range is [-2999,1], return 1\n",
    "recentCounter.ping(100);   // requests = [1, 100], range is [-2900,100], return 2\n",
    "recentCounter.ping(3001);  // requests = [1, 100, 3001], range is [1,3001], return 3\n",
    "recentCounter.ping(3002);  // requests = [1, 100, 3001, 3002], range is [2,3002], return 3\n",
    " \n",
    "\n",
    "Constraints:\n",
    "\n",
    "1 <= t <= 109\n",
    "Each test case will call ping with strictly increasing values of t.\n",
    "At most 104 calls will be made to ping.\n",
    "\n",
    "Deque (Doubly Ended Queue) in Python is implemented using the module “collections“. Deque is preferred over list in the cases where we need quicker append and pop operations from both the ends of container, as deque provides an O(1) time complexity for append and pop operations as compared to list which provides O(n) time complexity."
   ]
  },
  {
   "cell_type": "code",
   "execution_count": 64,
   "metadata": {},
   "outputs": [
    {
     "name": "stdout",
     "output_type": "stream",
     "text": [
      "1\n"
     ]
    }
   ],
   "source": [
    "from collections import deque\n",
    "class RecentCounter:\n",
    "\n",
    "    def __init__(self):\n",
    "        self.slidew =deque()\n",
    "        \n",
    "\n",
    "    def ping(self, t: int) -> int:\n",
    "        self.slidew.append(t)\n",
    "        while self.slidew[0]<t-3000:\n",
    "            self.slidew.popleft()\n",
    "        return len(self.slidew)\n",
    "t=3002\n",
    "obj=RecentCounter()\n",
    "param_1=obj.ping(t)\n",
    "print(param_1)"
   ]
  },
  {
   "cell_type": "markdown",
   "metadata": {},
   "source": [
    "10. Squares of a Sorted Array\n",
    "Easy\n",
    "\n",
    "Given an array of integers A sorted in non-decreasing order, return an array of the squares of each number, also in sorted non-decreasing order.\n",
    "\n",
    " \n",
    "\n",
    "Example 1:\n",
    "\n",
    "Input: [-4,-1,0,3,10]\n",
    "Output: [0,1,9,16,100]\n",
    "Example 2:\n",
    "\n",
    "Input: [-7,-3,2,3,11]\n",
    "Output: [4,9,9,49,121]\n",
    " \n",
    "\n",
    "Note:\n",
    "\n",
    "1 <= A.length <= 10000\n",
    "-10000 <= A[i] <= 10000\n",
    "A is sorted in non-decreasing order."
   ]
  },
  {
   "cell_type": "code",
   "execution_count": null,
   "metadata": {},
   "outputs": [],
   "source": [
    "class Solution:\n",
    "    def sortedSquares(self, A: List[int]) -> List[int]:\n",
    "        return sorted(x*x for x in A)"
   ]
  },
  {
   "cell_type": "markdown",
   "metadata": {},
   "source": [
    "11. Array Partition I\n",
    "Easy\n",
    "\n",
    "Given an integer array nums of 2n integers, group these integers into n pairs (a1, b1), (a2, b2), ..., (an, bn) such that the sum of min(ai, bi) for all i is maximized. Return the maximized sum.\n",
    "\n",
    " \n",
    "\n",
    "Example 1:\n",
    "\n",
    "Input: nums = [1,4,3,2]\n",
    "Output: 4\n",
    "Explanation: All possible pairings (ignoring the ordering of elements) are:\n",
    "1. (1, 4), (2, 3) -> min(1, 4) + min(2, 3) = 1 + 2 = 3\n",
    "2. (1, 3), (2, 4) -> min(1, 3) + min(2, 4) = 1 + 2 = 3\n",
    "3. (1, 2), (3, 4) -> min(1, 2) + min(3, 4) = 1 + 3 = 4\n",
    "So the maximum possible sum is 4.\n",
    "Example 2:\n",
    "\n",
    "Input: nums = [6,2,6,5,1,2]\n",
    "Output: 9\n",
    "Explanation: The optimal pairing is (2, 1), (2, 5), (6, 6). min(2, 1) + min(2, 5) + min(6, 6) = 1 + 2 + 6 = 9.\n",
    " \n",
    "\n",
    "Constraints:\n",
    "\n",
    "1 <= n <= 104\n",
    "nums.length == 2 * n\n",
    "-104 <= nums[i] <= 104"
   ]
  },
  {
   "cell_type": "code",
   "execution_count": 66,
   "metadata": {},
   "outputs": [
    {
     "name": "stdout",
     "output_type": "stream",
     "text": [
      "[1, 2, 3, 4]\n",
      "1\n",
      "4\n",
      "4\n"
     ]
    }
   ],
   "source": [
    "def ap(nums):\n",
    "    n=len(nums)\n",
    "    if n==2:\n",
    "        return min(nums)\n",
    "    nums.sort()\n",
    "    print(nums)\n",
    "    sum=0\n",
    "    for i in range(0,n,2):\n",
    "        sum+=nums[i]\n",
    "        print(sum)\n",
    "    return sum\n",
    "print(ap([1,4,3,2]))\n",
    "    "
   ]
  },
  {
   "cell_type": "markdown",
   "metadata": {},
   "source": [
    "The sorted () is a built-in function whereas sort () is a Python list method. The sorted () takes the list as an argument. The sort () is the method of a list object. The sorted () returns the new sorted list whereas sort () method does not return anything\n",
    "\n",
    "https://careerkarma.com/blog/python-sort-a-dictionary-by-value/:~:text=%20How%20to%20Sort%20a%20Dictionary%20by%20Value,use%20list%20comprehension%20to%20sort%20dictionary...%20More"
   ]
  },
  {
   "cell_type": "markdown",
   "metadata": {},
   "source": [
    "12. Height Checker\n",
    "Easy\n",
    "\n",
    "Students are asked to stand in non-decreasing order of heights for an annual photo.\n",
    "\n",
    "Return the minimum number of students that must move in order for all students to be standing in non-decreasing order of height.\n",
    "\n",
    "Notice that when a group of students is selected they can reorder in any possible way between themselves and the non selected students remain on their seats.\n",
    "\n",
    " \n",
    "\n",
    "Example 1:\n",
    "\n",
    "Input: heights = [1,1,4,2,1,3]\n",
    "Output: 3\n",
    "Explanation: \n",
    "Current array : [1,1,4,2,1,3]\n",
    "Target array  : [1,1,1,2,3,4]\n",
    "On index 2 (0-based) we have 4 vs 1 so we have to move this student.\n",
    "On index 4 (0-based) we have 1 vs 3 so we have to move this student.\n",
    "On index 5 (0-based) we have 3 vs 4 so we have to move this student.\n",
    "Example 2:\n",
    "\n",
    "Input: heights = [5,1,2,3,4]\n",
    "Output: 5\n",
    "Example 3:\n",
    "\n",
    "Input: heights = [1,2,3,4,5]\n",
    "Output: 0\n",
    " \n",
    "\n",
    "Constraints:\n",
    "\n",
    "1 <= heights.length <= 100\n",
    "1 <= heights[i] <= 100"
   ]
  },
  {
   "cell_type": "code",
   "execution_count": 70,
   "metadata": {},
   "outputs": [
    {
     "name": "stdout",
     "output_type": "stream",
     "text": [
      "<class 'list'>\n",
      "3\n"
     ]
    }
   ],
   "source": [
    "def hc(h):\n",
    "    c=0\n",
    "    n=sorted(h, reverse=True)\n",
    "    print(type(n))\n",
    "    n2=sorted(h)\n",
    "    for i in range(len(h)):\n",
    "        if h[i]!=n2[i]:\n",
    "            c+=1\n",
    "    return c\n",
    "print(hc([1,1,4,2,1,3]))\n",
    "    "
   ]
  },
  {
   "cell_type": "markdown",
   "metadata": {},
   "source": [
    "13. Maximum 69 Number\n",
    "Easy\n",
    "\n",
    "Given a positive integer num consisting only of digits 6 and 9.\n",
    "\n",
    "Return the maximum number you can get by changing at most one digit (6 becomes 9, and 9 becomes 6).\n",
    "\n",
    " \n",
    "\n",
    "Example 1:\n",
    "\n",
    "Input: num = 9669\n",
    "Output: 9969\n",
    "Explanation: \n",
    "Changing the first digit results in 6669.\n",
    "Changing the second digit results in 9969.\n",
    "Changing the third digit results in 9699.\n",
    "Changing the fourth digit results in 9666. \n",
    "The maximum number is 9969.\n",
    "Example 2:\n",
    "\n",
    "Input: num = 9996\n",
    "Output: 9999\n",
    "Explanation: Changing the last digit 6 to 9 results in the maximum number.\n",
    "Example 3:\n",
    "\n",
    "Input: num = 9999\n",
    "Output: 9999\n",
    "Explanation: It is better not to apply any change.\n",
    " \n",
    "\n",
    "Constraints:\n",
    "\n",
    "1 <= num <= 10^4\n",
    "num's digits are 6 or 9.\n"
   ]
  },
  {
   "cell_type": "code",
   "execution_count": 72,
   "metadata": {},
   "outputs": [
    {
     "name": "stdout",
     "output_type": "stream",
     "text": [
      "9969\n"
     ]
    }
   ],
   "source": [
    "def mn(n):\n",
    "    d=[(9000,6000,3000),(900,600,300),(90,60,30),(9,6,3)]\n",
    "    temp=n\n",
    "    for v in d:\n",
    "        if temp>v[0]:\n",
    "            temp-=v[0]\n",
    "            continue\n",
    "        if temp<v[0] and temp>=v[1]:\n",
    "            return n+v[2]\n",
    "    return n\n",
    "print(mn(9669))"
   ]
  },
  {
   "cell_type": "code",
   "execution_count": 77,
   "metadata": {},
   "outputs": [
    {
     "name": "stdout",
     "output_type": "stream",
     "text": [
      "9969\n"
     ]
    }
   ],
   "source": [
    "def mn(n):\n",
    "    pos=-1\n",
    "    temp=n\n",
    "    i=0\n",
    "    while n!=0:\n",
    "        if n%10 ==6:\n",
    "            pos=i\n",
    "        i+=1\n",
    "        n=n//10\n",
    "    if pos==-1: return temp\n",
    "    else:\n",
    "        return temp+10**pos*3\n",
    "print(mn(9669))"
   ]
  },
  {
   "cell_type": "markdown",
   "metadata": {},
   "source": [
    "SATURDAY OCT 31, 2020\n"
   ]
  },
  {
   "cell_type": "markdown",
   "metadata": {},
   "source": [
    "1. Decrypt String from Alphabet to Integer Mapping\n",
    "Easy\n",
    "\n",
    "Given a string s formed by digits ('0' - '9') and '#' . We want to map s to English lowercase characters as follows:\n",
    "\n",
    "Characters ('a' to 'i') are represented by ('1' to '9') respectively.\n",
    "Characters ('j' to 'z') are represented by ('10#' to '26#') respectively. \n",
    "Return the string formed after mapping.\n",
    "\n",
    "It's guaranteed that a unique mapping will always exist.\n",
    "\n",
    " \n",
    "\n",
    "Example 1:\n",
    "\n",
    "Input: s = \"10#11#12\"\n",
    "Output: \"jkab\"\n",
    "Explanation: \"j\" -> \"10#\" , \"k\" -> \"11#\" , \"a\" -> \"1\" , \"b\" -> \"2\".\n",
    "Example 2:\n",
    "\n",
    "Input: s = \"1326#\"\n",
    "Output: \"acz\"\n",
    "Example 3:\n",
    "\n",
    "Input: s = \"25#\"\n",
    "Output: \"y\"\n",
    "Example 4:\n",
    "\n",
    "Input: s = \"12345678910#11#12#13#14#15#16#17#18#19#20#21#22#23#24#25#26#\"\n",
    "Output: \"abcdefghijklmnopqrstuvwxyz\"\n",
    " \n",
    "\n",
    "Constraints:\n",
    "\n",
    "1 <= s.length <= 1000\n",
    "s[i] only contains digits letters ('0'-'9') and '#' letter.\n",
    "s will be valid string such that mapping is always possible."
   ]
  },
  {
   "cell_type": "code",
   "execution_count": 1,
   "metadata": {},
   "outputs": [
    {
     "name": "stdout",
     "output_type": "stream",
     "text": [
      "y\n"
     ]
    }
   ],
   "source": [
    "def ds(s):\n",
    "    l=len(s)-1\n",
    "    string=\"\"\n",
    "    while l>=0:\n",
    "        if s[l]=='#':\n",
    "            string=chr(int(s[l-2:l])+96)+string\n",
    "            l-=3\n",
    "        else:\n",
    "            string=chr(int(s[l])+96)+string\n",
    "            l-=1\n",
    "    return string\n",
    "print(ds(\"25#\"))\n",
    "            \n",
    "        \n",
    "    \n",
    "        "
   ]
  },
  {
   "cell_type": "code",
   "execution_count": 4,
   "metadata": {},
   "outputs": [
    {
     "name": "stdout",
     "output_type": "stream",
     "text": [
      "[5, 6, 6]\n"
     ]
    }
   ],
   "source": [
    "\"\"\"The map() function executes a specified function for each item in an iterable.\n",
    "The item is sent to the function as a parameter\"\"\"\n",
    "def myfunc(n):\n",
    "    return len(n)\n",
    "\n",
    "x = map(myfunc, ('apple', 'banana', 'cherry'))\n",
    "print(list(x))"
   ]
  },
  {
   "cell_type": "markdown",
   "metadata": {},
   "source": [
    "2. Unique Morse Code Words\n",
    "Easy\n",
    "\n",
    "International Morse Code defines a standard encoding where each letter is mapped to a series of dots and dashes, as follows: \"a\" maps to \".-\", \"b\" maps to \"-...\", \"c\" maps to \"-.-.\", and so on.\n",
    "\n",
    "For convenience, the full table for the 26 letters of the English alphabet is given below:\n",
    "\n",
    "[\".-\",\"-...\",\"-.-.\",\"-..\",\".\",\"..-.\",\"--.\",\"....\",\"..\",\".---\",\"-.-\",\".-..\",\"--\",\"-.\",\"---\",\".--.\",\"--.-\",\".-.\",\"...\",\"-\",\"..-\",\"...-\",\".--\",\"-..-\",\"-.--\",\"--..\"]\n",
    "Now, given a list of words, each word can be written as a concatenation of the Morse code of each letter. For example, \"cab\" can be written as \"-.-..--...\", (which is the concatenation \"-.-.\" + \".-\" + \"-...\"). We'll call such a concatenation, the transformation of a word.\n",
    "\n",
    "Return the number of different transformations among all words we have.\n",
    "\n",
    "Example:\n",
    "Input: words = [\"gin\", \"zen\", \"gig\", \"msg\"]\n",
    "Output: 2\n",
    "Explanation: \n",
    "The transformation of each word is:\n",
    "\"gin\" -> \"--...-.\"\n",
    "\"zen\" -> \"--...-.\"\n",
    "\"gig\" -> \"--...--.\"\n",
    "\"msg\" -> \"--...--.\"\n",
    "\n",
    "There are 2 different transformations, \"--...-.\" and \"--...--.\".\n",
    "Note:\n",
    "\n",
    "The length of words will be at most 100.\n",
    "Each words[i] will have length in range [1, 12].\n",
    "words[i] will only consist of lowercase letters.\n"
   ]
  },
  {
   "cell_type": "code",
   "execution_count": 34,
   "metadata": {},
   "outputs": [
    {
     "name": "stdout",
     "output_type": "stream",
     "text": [
      "2\n"
     ]
    }
   ],
   "source": [
    "def umc(words):\n",
    "    mc=[\".-\",\"-...\",\"-.-.\",\"-..\",\".\",\"..-.\",\"--.\",\"....\",\"..\",\".---\",\"-.-\",\".-..\",\"--\",\"-.\",\"---\",\".--.\",\"--.-\",\".-.\",\"...\",\"-\",\"..-\",\"...-\",\".--\",\"-..-\",\"-.--\",\"--..\"]\n",
    "    al=['a','b','c','d','e','f','g','h','i','j','k','l','m','n','o','p','q','r','s','t','u','v','w','x','y','z']\n",
    "    dic={i:j for i,j in zip(al,mc)}\n",
    "    wmc=[]\n",
    "    for word in words:\n",
    "        wmc.append(''.join(list(map(dic.get,list(word)))))\n",
    "    return len(set(wmc))\n",
    "    \n",
    "print(umc([\"gin\", \"zen\", \"gig\", \"msg\"]))"
   ]
  },
  {
   "cell_type": "code",
   "execution_count": 33,
   "metadata": {},
   "outputs": [
    {
     "name": "stdout",
     "output_type": "stream",
     "text": [
      "2\n"
     ]
    }
   ],
   "source": [
    "def umc(words):\n",
    "    MORSE = [\".-\",\"-...\",\"-.-.\",\"-..\",\".\",\"..-.\",\"--.\",\n",
    "                 \"....\",\"..\",\".---\",\"-.-\",\".-..\",\"--\",\"-.\",\n",
    "                 \"---\",\".--.\",\"--.-\",\".-.\",\"...\",\"-\",\"..-\",\n",
    "                 \"...-\",\".--\",\"-..-\",\"-.--\",\"--..\"]\n",
    "\n",
    "    seen = {\"\".join(MORSE[ord(c) - ord('a')] for c in word)\n",
    "                for word in words}\n",
    "\n",
    "    return len(seen)\n",
    "print(umc([\"gin\", \"zen\", \"gig\", \"msg\"]))"
   ]
  },
  {
   "cell_type": "markdown",
   "metadata": {},
   "source": [
    "3. Generate a String With Characters That Have Odd Counts\n",
    "Easy\n",
    "\n",
    "\n",
    "Given an integer n, return a string with n characters such that each character in such string occurs an odd number of times.\n",
    "\n",
    "The returned string must contain only lowercase English letters. If there are multiples valid strings, return any of them.  \n",
    "\n",
    " \n",
    "\n",
    "Example 1:\n",
    "\n",
    "Input: n = 4\n",
    "Output: \"pppz\"\n",
    "Explanation: \"pppz\" is a valid string since the character 'p' occurs three times and the character 'z' occurs once. Note that there are many other valid strings such as \"ohhh\" and \"love\".\n",
    "Example 2:\n",
    "\n",
    "Input: n = 2\n",
    "Output: \"xy\"\n",
    "Explanation: \"xy\" is a valid string since the characters 'x' and 'y' occur once. Note that there are many other valid strings such as \"ag\" and \"ur\".\n",
    "Example 3:\n",
    "\n",
    "Input: n = 7\n",
    "Output: \"holasss\"\n",
    " \n",
    "\n",
    "Constraints:\n",
    "\n",
    "1 <= n <= 500"
   ]
  },
  {
   "cell_type": "code",
   "execution_count": 32,
   "metadata": {},
   "outputs": [
    {
     "name": "stdout",
     "output_type": "stream",
     "text": [
      "aaa\n"
     ]
    }
   ],
   "source": [
    "def od(n):\n",
    "    s=''\n",
    "    if n%2==0:\n",
    "        s='z'\n",
    "        n=n-1\n",
    "    for i in range(n):\n",
    "        s+='a'\n",
    "    return s\n",
    "print(od(3))\n",
    "        \n",
    "        \n",
    "        "
   ]
  },
  {
   "cell_type": "code",
   "execution_count": 31,
   "metadata": {},
   "outputs": [
    {
     "name": "stdout",
     "output_type": "stream",
     "text": [
      "aaa\n"
     ]
    }
   ],
   "source": [
    "def od(n):\n",
    "    return \"a\"*(n-1)+'b' if n%2==0 else \"a\"*n\n",
    "print(od(3))"
   ]
  },
  {
   "cell_type": "markdown",
   "metadata": {},
   "source": [
    "4. Replace Elements with Greatest Element on Right Side\n",
    "Easy\n",
    "\n",
    "Given an array arr, replace every element in that array with the greatest element among the elements to its right, and replace the last element with -1.\n",
    "\n",
    "After doing so, return the array.\n",
    "\n",
    " \n",
    "\n",
    "Example 1:\n",
    "\n",
    "Input: arr = [17,18,5,4,6,1]\n",
    "Output: [18,6,6,6,1,-1]\n",
    " \n",
    "\n",
    "Constraints:\n",
    "\n",
    "1 <= arr.length <= 10^4\n",
    "1 <= arr[i] <= 10^5"
   ]
  },
  {
   "cell_type": "code",
   "execution_count": 30,
   "metadata": {},
   "outputs": [
    {
     "name": "stdout",
     "output_type": "stream",
     "text": [
      "[18, 6, 6, 6, 1, -1]\n"
     ]
    }
   ],
   "source": [
    "from collections import deque\n",
    "def ra(arr):\n",
    "    pointer = len(arr)-1\n",
    "    current_max=arr[pointer]\n",
    "    farr = collections.deque()\n",
    "    for i in range(pointer, -1,-1):\n",
    "        if i==pointer:\n",
    "            farr.appendleft(-1)\n",
    "            continue\n",
    "        farr.appendleft(current_max)\n",
    "        if arr[i]>current_max:\n",
    "            current_max=arr[i]\n",
    "    return list(farr)\n",
    "print(ra([17,18,5,4,6,1]))"
   ]
  },
  {
   "cell_type": "code",
   "execution_count": 29,
   "metadata": {},
   "outputs": [
    {
     "name": "stdout",
     "output_type": "stream",
     "text": [
      "[18, 6, 6, 6, 1, -1]\n"
     ]
    }
   ],
   "source": [
    "def ra(arr):\n",
    "    maxval=prevmax=-1\n",
    "    for i in reversed(range(len(arr))):\n",
    "        maxval=max(maxval,arr[i])\n",
    "        arr[i]=prevmax\n",
    "        prevmax=maxval\n",
    "    return arr\n",
    "print(ra([17,18,5,4,6,1]))"
   ]
  },
  {
   "cell_type": "markdown",
   "metadata": {},
   "source": [
    "5. Reverse String\n",
    "Easy\n",
    "\n",
    "Write a function that reverses a string. The input string is given as an array of characters char[].\n",
    "\n",
    "Do not allocate extra space for another array, you must do this by modifying the input array in-place with O(1) extra memory.\n",
    "\n",
    "You may assume all the characters consist of printable ascii characters.\n",
    "\n",
    " \n",
    "\n",
    "Example 1:\n",
    "\n",
    "Input: [\"h\",\"e\",\"l\",\"l\",\"o\"]\n",
    "Output: [\"o\",\"l\",\"l\",\"e\",\"h\"]\n",
    "Example 2:\n",
    "\n",
    "Input: [\"H\",\"a\",\"n\",\"n\",\"a\",\"h\"]\n",
    "Output: [\"h\",\"a\",\"n\",\"n\",\"a\",\"H\"]\n",
    "\n",
    "Hint1:\n",
    "The entire logic for reversing a string is based on using the opposite directional two-pointer approach!\n"
   ]
  },
  {
   "cell_type": "code",
   "execution_count": 11,
   "metadata": {},
   "outputs": [
    {
     "name": "stdout",
     "output_type": "stream",
     "text": [
      "['o', 'l', 'l', 'e', 'h']\n"
     ]
    }
   ],
   "source": [
    "def rs(s):\n",
    "    for i in range(len(s)):\n",
    "        s.insert(i,s.pop())\n",
    "    return s\n",
    "print(rs(['h','e','l','l','o']))"
   ]
  },
  {
   "cell_type": "code",
   "execution_count": 28,
   "metadata": {},
   "outputs": [
    {
     "name": "stdout",
     "output_type": "stream",
     "text": [
      "['o', 'l', 'l', 'e', 'h']\n"
     ]
    }
   ],
   "source": [
    "#Recursive in-place Algorithm\n",
    "def rs(s):\n",
    "    def helper(left,right):\n",
    "        if left<right:\n",
    "            s[left],s[right]=s[right],s[left]\n",
    "            helper(left+1,right-1)\n",
    "    helper(0,len(s)-1)\n",
    "    return s\n",
    "print(rs(['h','e','l','l','o']))"
   ]
  },
  {
   "cell_type": "code",
   "execution_count": 27,
   "metadata": {},
   "outputs": [
    {
     "name": "stdout",
     "output_type": "stream",
     "text": [
      "['o', 'l', 'l', 'e', 'h']\n"
     ]
    }
   ],
   "source": [
    "#Two Pointers Iteration\n",
    "def rs(s):\n",
    "    left,right=0, len(s)-1\n",
    "    while left<right:\n",
    "        s[left],s[right]=s[right],s[left]\n",
    "        left,right=left+1,right-1\n",
    "    return s\n",
    "print(rs(['h','e','l','l','o']))\n",
    "    "
   ]
  },
  {
   "cell_type": "code",
   "execution_count": 26,
   "metadata": {},
   "outputs": [
    {
     "name": "stdout",
     "output_type": "stream",
     "text": [
      "['o', 'l', 'l', 'e', 'h']\n"
     ]
    }
   ],
   "source": [
    "#easiest\n",
    "def rs(s):\n",
    "    s.reverse()\n",
    "    return s\n",
    "print(rs(['h','e','l','l','o']))\n",
    "    "
   ]
  },
  {
   "cell_type": "markdown",
   "metadata": {},
   "source": [
    "Range vs xrange()\n",
    "\n",
    "The variable holding the range created by range uses 80072 bytes while the variable created by xrange only uses 40 bytes.\n",
    "\n",
    "The reason is that range creates a list holding all the values while xrange creates an object that can iterate over the numbers on demand."
   ]
  },
  {
   "cell_type": "code",
   "execution_count": 21,
   "metadata": {},
   "outputs": [
    {
     "name": "stdout",
     "output_type": "stream",
     "text": [
      "1\n"
     ]
    }
   ],
   "source": [
    "print(7%2)"
   ]
  },
  {
   "cell_type": "markdown",
   "metadata": {},
   "source": [
    "6. Sort Array By Parity II\n",
    "Easy\n",
    "\n",
    "Given an array A of non-negative integers, half of the integers in A are odd, and half of the integers are even.\n",
    "\n",
    "Sort the array so that whenever A[i] is odd, i is odd; and whenever A[i] is even, i is even.\n",
    "\n",
    "You may return any answer array that satisfies this condition.\n",
    "\n",
    " \n",
    "\n",
    "Example 1:\n",
    "\n",
    "Input: [4,2,5,7]\n",
    "Output: [4,5,2,7]\n",
    "Explanation: [4,7,2,5], [2,5,4,7], [2,7,4,5] would also have been accepted.\n",
    " \n",
    "\n",
    "Note:\n",
    "\n",
    "2 <= A.length <= 20000\n",
    "A.length % 2 == 0\n",
    "0 <= A[i] <= 1000\n"
   ]
  },
  {
   "cell_type": "code",
   "execution_count": 24,
   "metadata": {},
   "outputs": [
    {
     "name": "stdout",
     "output_type": "stream",
     "text": [
      "[4, 5, 2, 7]\n"
     ]
    }
   ],
   "source": [
    "def sarp(A):\n",
    "    j=1\n",
    "    for i in range(0,len(A),2):\n",
    "        if A[i]%2:\n",
    "            while A[j]%2:\n",
    "                j+=2\n",
    "            A[i],A[j]=A[j],A[i]\n",
    "    return A\n",
    "print(sarp([4,2,5,7]))"
   ]
  },
  {
   "cell_type": "code",
   "execution_count": 25,
   "metadata": {},
   "outputs": [
    {
     "name": "stdout",
     "output_type": "stream",
     "text": [
      "[4, 5, 2, 7]\n"
     ]
    }
   ],
   "source": [
    "def sarp(A):\n",
    "    N=len(A)\n",
    "    ans=[None]*N\n",
    "    \n",
    "    t=0\n",
    "    for i,x in enumerate(A):\n",
    "        if x%2==0:\n",
    "            ans[t]=x\n",
    "            t+=2\n",
    "    t=1\n",
    "    for i,x in enumerate(A):\n",
    "        if x%2==1:\n",
    "            ans[t]=x\n",
    "            t+=2\n",
    "    return ans\n",
    "print(sarp([4,2,5,7]))"
   ]
  },
  {
   "cell_type": "markdown",
   "metadata": {},
   "source": [
    "SUNDAY NOV 1st,2020"
   ]
  },
  {
   "cell_type": "markdown",
   "metadata": {},
   "source": [
    "1. Find Common Characters\n",
    "Easy\n",
    "\n",
    "Given an array A of strings made only from lowercase letters, return a list of all characters that show up in all strings within the list (including duplicates).  For example, if a character occurs 3 times in all strings but not 4 times, you need to include that character three times in the final answer.\n",
    "\n",
    "You may return the answer in any order.\n",
    "\n",
    " \n",
    "\n",
    "Example 1:\n",
    "\n",
    "Input: [\"bella\",\"label\",\"roller\"]\n",
    "Output: [\"e\",\"l\",\"l\"]\n",
    "Example 2:\n",
    "\n",
    "Input: [\"cool\",\"lock\",\"cook\"]\n",
    "Output: [\"c\",\"o\"]\n",
    " \n",
    "\n",
    "Note:\n",
    "\n",
    "1 <= A.length <= 100\n",
    "1 <= A[i].length <= 100\n",
    "A[i][j] is a lowercase letter"
   ]
  },
  {
   "cell_type": "code",
   "execution_count": 21,
   "metadata": {},
   "outputs": [],
   "source": [
    "def commonChars(A):\n",
    "    l=Counter(A[0])&Counter(A[1])\n",
    "    for i in range(2,lean(A)):\n",
    "        l=l&Counter(A[i])\n",
    "    lc=[]\n",
    "    for item in l:\n",
    "        lc+=[item]*l[item]\n",
    "    return lc"
   ]
  },
  {
   "cell_type": "markdown",
   "metadata": {},
   "source": [
    "2. Groups of Special-Equivalent Strings\n",
    "Easy\n",
    "\n",
    "You are given an array A of strings.\n",
    "\n",
    "A move onto S consists of swapping any two even indexed characters of S, or any two odd indexed characters of S.\n",
    "\n",
    "Two strings S and T are special-equivalent if after any number of moves onto S, S == T.\n",
    "\n",
    "For example, S = \"zzxy\" and T = \"xyzz\" are special-equivalent because we may make the moves \"zzxy\" -> \"xzzy\" -> \"xyzz\" that swap S[0] and S[2], then S[1] and S[3].\n",
    "\n",
    "Now, a group of special-equivalent strings from A is a non-empty subset of A such that:\n",
    "\n",
    "Every pair of strings in the group are special equivalent, and;\n",
    "The group is the largest size possible (ie., there isn't a string S not in the group such that S is special equivalent to every string in the group)\n",
    "Return the number of groups of special-equivalent strings from A.\n",
    "\n",
    " \n",
    "Example 1:\n",
    "\n",
    "Input: [\"abcd\",\"cdab\",\"cbad\",\"xyzz\",\"zzxy\",\"zzyx\"]\n",
    "Output: 3\n",
    "Explanation: \n",
    "One group is [\"abcd\", \"cdab\", \"cbad\"], since they are all pairwise special equivalent, and none of the other strings are all pairwise special equivalent to these.\n",
    "\n",
    "The other two groups are [\"xyzz\", \"zzxy\"] and [\"zzyx\"].  Note that in particular, \"zzxy\" is not special equivalent to \"zzyx\".\n",
    "Example 2:\n",
    "\n",
    "Input: [\"abc\",\"acb\",\"bac\",\"bca\",\"cab\",\"cba\"]\n",
    "Output: 3\n",
    " \n",
    "\n",
    "Note:\n",
    "\n",
    "1 <= A.length <= 1000\n",
    "1 <= A[i].length <= 20\n",
    "All A[i] have the same length.\n",
    "All A[i] consist of only lowercase letters."
   ]
  },
  {
   "cell_type": "code",
   "execution_count": 24,
   "metadata": {},
   "outputs": [
    {
     "name": "stdout",
     "output_type": "stream",
     "text": [
      "3\n"
     ]
    }
   ],
   "source": [
    "def numSpecialEquivalent(A):\n",
    "    def count(A):\n",
    "        ans=[0]*52\n",
    "        for i,letter in enumerate(A):\n",
    "            ans[ord(letter)-ord('a')+26*(i%2)]+=1\n",
    "        return tuple(ans)\n",
    "    return len({count(word)for word in A})\n",
    "print(numSpecialEquivalent([\"abcd\",\"cdab\",\"cbad\",\"xyzz\",\"zzxy\",\"zzyx\"]))"
   ]
  },
  {
   "cell_type": "markdown",
   "metadata": {},
   "source": [
    "1403. Minimum Subsequence in Non-Increasing Order\n",
    "Easy\n",
    "\n",
    "155\n",
    "\n",
    "215\n",
    "\n",
    "Add to List\n",
    "\n",
    "Share\n",
    "Given the array nums, obtain a subsequence of the array whose sum of elements is strictly greater than the sum of the non included elements in such subsequence. \n",
    "\n",
    "If there are multiple solutions, return the subsequence with minimum size and if there still exist multiple solutions, return the subsequence with the maximum total sum of all its elements. A subsequence of an array can be obtained by erasing some (possibly zero) elements from the array. \n",
    "\n",
    "Note that the solution with the given constraints is guaranteed to be unique. Also return the answer sorted in non-increasing order.\n",
    "\n",
    " \n",
    "\n",
    "Example 1:\n",
    "\n",
    "Input: nums = [4,3,10,9,8]\n",
    "Output: [10,9] \n",
    "Explanation: The subsequences [10,9] and [10,8] are minimal such that the sum of their elements is strictly greater than the sum of elements not included, however, the subsequence [10,9] has the maximum total sum of its elements. "
   ]
  },
  {
   "cell_type": "code",
   "execution_count": 6,
   "metadata": {},
   "outputs": [],
   "source": [
    "def minSubs(nums):\n",
    "    nums.sort(reverse=True)\n",
    "    tot=sum(nums)\n",
    "    subtot=0\n",
    "    subarr=[]\n",
    "    for n in nums:\n",
    "        subtot+=n\n",
    "        subarr.append(n)\n",
    "        if subtot>(tot-subtot):\n",
    "            return subarr\n",
    "    return subarr"
   ]
  },
  {
   "cell_type": "code",
   "execution_count": 1,
   "metadata": {},
   "outputs": [
    {
     "name": "stdout",
     "output_type": "stream",
     "text": [
      "[10, 9]\n"
     ]
    }
   ],
   "source": [
    "def minSub(nums):\n",
    "    tot=sum(nums)\n",
    "    nums.sort(reverse=True)\n",
    "    counter=0\n",
    "    arr=[]\n",
    "    i=0\n",
    "    while counter<=tot:\n",
    "        counter+=nums[i]\n",
    "        arr.append(nums[i])\n",
    "        tot-=nums[i]\n",
    "        i+=1\n",
    "    return arr\n",
    "print(minSub([4,3,10,9,8]))"
   ]
  },
  {
   "cell_type": "markdown",
   "metadata": {},
   "source": [
    "557. Reverse Words in a String III\n",
    "Easy\n",
    "\n",
    "1202\n",
    "\n",
    "95\n",
    "\n",
    "Add to List\n",
    "\n",
    "Share\n",
    "Given a string, you need to reverse the order of characters in each word within a sentence while still preserving whitespace and initial word order.\n",
    "\n",
    "Example 1:\n",
    "\n",
    "Input: \"Let's take LeetCode contest\"\n",
    "Output: \"s'teL ekat edoCteeL tsetnoc\"\n",
    "Note: In the string, each word is separated by single space and there will not be any extra space in the string."
   ]
  },
  {
   "cell_type": "code",
   "execution_count": 6,
   "metadata": {},
   "outputs": [
    {
     "name": "stdout",
     "output_type": "stream",
     "text": [
      "s'teL ekat edoCteeL tsetnoc \n"
     ]
    }
   ],
   "source": [
    "class Solution:\n",
    "    def reverseWords(self, s: str) -> str:\n",
    "        a=s.split()\n",
    "        ans=[]\n",
    "        if s==\"\":\n",
    "            return \"\"\n",
    "        else:\n",
    "            \n",
    "            for i in range(len(a)):\n",
    "                ans.append(a[i][::-1])\n",
    "                ans.append(\" \")\n",
    "            ans.pop()\n",
    "            return \"\".join(ans)\n",
    "        "
   ]
  },
  {
   "cell_type": "markdown",
   "metadata": {},
   "source": [
    "1502. Can Make Arithmetic Progression From Sequence\n",
    "Easy\n",
    "\n",
    "211\n",
    "\n",
    "17\n",
    "\n",
    "Add to List\n",
    "\n",
    "Share\n",
    "Given an array of numbers arr. A sequence of numbers is called an arithmetic progression if the difference between any two consecutive elements is the same.\n",
    "\n",
    "Return true if the array can be rearranged to form an arithmetic progression, otherwise, return false.\n",
    "\n",
    " \n",
    "\n",
    "Example 1:\n",
    "\n",
    "Input: arr = [3,5,1]\n",
    "Output: true\n",
    "Explanation: We can reorder the elements as [1,3,5] or [5,3,1] with differences 2 and -2 respectively, between each consecutive elements."
   ]
  },
  {
   "cell_type": "code",
   "execution_count": 5,
   "metadata": {},
   "outputs": [
    {
     "name": "stdout",
     "output_type": "stream",
     "text": [
      "True\n"
     ]
    }
   ],
   "source": [
    "def amP(arr):\n",
    "    arr.sort()\n",
    "    k=arr[1]-arr[0]\n",
    "    c=0\n",
    "    for i in range(len(arr)-1):\n",
    "        if arr[i+1]-arr[i]==k:\n",
    "            c+=1\n",
    "    if c==(len(arr)-1):\n",
    "        return True\n",
    "    \n",
    "print(amP([3,5,1]))"
   ]
  },
  {
   "cell_type": "markdown",
   "metadata": {},
   "source": [
    "1380. Lucky Numbers in a Matrix\n",
    "Easy\n",
    "\n",
    "351\n",
    "\n",
    "34\n",
    "\n",
    "Add to List\n",
    "\n",
    "Share\n",
    "Given a m * n matrix of distinct numbers, return all lucky numbers in the matrix in any order.\n",
    "\n",
    "A lucky number is an element of the matrix such that it is the minimum element in its row and maximum in its column.\n",
    "\n",
    " \n",
    "\n",
    "Example 1:\n",
    "\n",
    "Input: matrix = [[3,7,8],[9,11,13],[15,16,17]]\n",
    "Output: [15]\n",
    "Explanation: 15 is the only lucky number since it is the minimum in its row and the maximum in its column"
   ]
  },
  {
   "cell_type": "code",
   "execution_count": 7,
   "metadata": {},
   "outputs": [
    {
     "name": "stdout",
     "output_type": "stream",
     "text": [
      "[15]\n"
     ]
    }
   ],
   "source": [
    "def luckNum(matrix):\n",
    "    mini = [min(x) for x in matrix]\n",
    "    maxi =[max(x) for x in zip(*matrix)]\n",
    "    if max(mini)==min(maxi):\n",
    "        return [max(mini)]\n",
    "    return []\n",
    "print(luckNum([[3,7,8],[9,11,13],[15,16,17]]))"
   ]
  },
  {
   "cell_type": "code",
   "execution_count": 15,
   "metadata": {},
   "outputs": [
    {
     "name": "stdout",
     "output_type": "stream",
     "text": [
      "Navin Dell\n",
      "Kiran Apple\n",
      "Harsh MS\n",
      "Navin Dell\n"
     ]
    }
   ],
   "source": [
    "names=[\"Navin\",\"Kiran\",\"Harsh\",\"Navin\"]\n",
    "comps=[\"Dell\",\"Apple\",\"MS\",\"Dell\"]\n",
    "zipped =(zip(names,comps))\n",
    "for a,b in zipped:\n",
    "    print(a,b)"
   ]
  },
  {
   "cell_type": "markdown",
   "metadata": {},
   "source": [
    "1200. Minimum Absolute Difference\n",
    "Easy\n",
    "\n",
    "424\n",
    "\n",
    "24\n",
    "\n",
    "Add to List\n",
    "\n",
    "Share\n",
    "Given an array of distinct integers arr, find all pairs of elements with the minimum absolute difference of any two elements. \n",
    "\n",
    "Return a list of pairs in ascending order(with respect to pairs), each pair [a, b] follows\n",
    "\n",
    "a, b are from arr\n",
    "a < b\n",
    "b - a equals to the minimum absolute difference of any two elements in arr\n",
    " \n",
    "\n",
    "Example 1:\n",
    "\n",
    "Input: arr = [4,2,1,3]\n",
    "Output: [[1,2],[2,3],[3,4]]\n",
    "Explanation: The minimum absolute difference is 1. List all pairs with difference equal to 1 in ascending order."
   ]
  },
  {
   "cell_type": "code",
   "execution_count": 1,
   "metadata": {},
   "outputs": [],
   "source": [
    "def minAbs(arr):\n",
    "    arr.sort()\n",
    "    diff,ad_min=[[arr[0],arr[1]]],arr[1]-arr[0]\n",
    "    for i in range(1,len(arr)-1):\n",
    "        if arr[i+1]-arr[i]>ad_min:\n",
    "            continue\n",
    "        elif arr[i+1]-arr[i]==ad_min:\n",
    "            diff.append([arr[i],arr[i+1]])\n",
    "        else:\n",
    "            diff=[[arr[i],arr[i+1]]]\n",
    "            ad_min=arr[i+1]-arr[i]\n",
    "    return diff\n",
    "            "
   ]
  },
  {
   "cell_type": "markdown",
   "metadata": {},
   "source": [
    "1122. Relative Sort Array\n",
    "Easy\n",
    "\n",
    "837\n",
    "\n",
    "61\n",
    "\n",
    "Add to List\n",
    "\n",
    "Share\n",
    "Given two arrays arr1 and arr2, the elements of arr2 are distinct, and all elements in arr2 are also in arr1.\n",
    "\n",
    "Sort the elements of arr1 such that the relative ordering of items in arr1 are the same as in arr2.  Elements that don't appear in arr2 should be placed at the end of arr1 in ascending order.\n",
    "\n",
    " \n",
    "\n",
    "Example 1:\n",
    "\n",
    "Input: arr1 = [2,3,1,3,2,4,6,7,9,2,19], arr2 = [2,1,4,3,9,6]\n",
    "Output: [2,2,2,1,4,3,3,9,6,7,19]\n",
    " \n",
    "\n",
    "Constraints:\n",
    "\n",
    "arr1.length, arr2.length <= 1000\n",
    "0 <= arr1[i], arr2[i] <= 1000\n",
    "Each arr2[i] is distinct.\n",
    "Each arr2[i] is in arr1."
   ]
  },
  {
   "cell_type": "code",
   "execution_count": 2,
   "metadata": {},
   "outputs": [],
   "source": [
    "def relSortArray(arr1,arr2):\n",
    "    o=[]\n",
    "    arr1.sort()\n",
    "    c=Counter(arr1)\n",
    "    for i in arr2:\n",
    "        for j in range(0,c[i]):\n",
    "            o.append(i)\n",
    "    for i in c:\n",
    "        if i not in o:\n",
    "            for j in range(0,c[i]):\n",
    "                o.append(i)\n",
    "    return o"
   ]
  },
  {
   "cell_type": "code",
   "execution_count": null,
   "metadata": {},
   "outputs": [],
   "source": []
  }
 ],
 "metadata": {
  "kernelspec": {
   "display_name": "Python 3",
   "language": "python",
   "name": "python3"
  },
  "language_info": {
   "codemirror_mode": {
    "name": "ipython",
    "version": 3
   },
   "file_extension": ".py",
   "mimetype": "text/x-python",
   "name": "python",
   "nbconvert_exporter": "python",
   "pygments_lexer": "ipython3",
   "version": "3.7.4"
  }
 },
 "nbformat": 4,
 "nbformat_minor": 2
}
