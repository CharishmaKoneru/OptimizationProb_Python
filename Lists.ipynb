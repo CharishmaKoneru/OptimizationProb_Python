{
 "cells": [
  {
   "cell_type": "code",
   "execution_count": 2,
   "metadata": {},
   "outputs": [
    {
     "name": "stdout",
     "output_type": "stream",
     "text": [
      "Don't panic!\n",
      "['D', 'o', 'n', \"'\", 't', ' ', 'p', 'a', 'n', 'i', 'c', '!']\n",
      "['o', 'n', ' ', 't', 'a', 'p']\n",
      "on tap\n"
     ]
    }
   ],
   "source": [
    "\"\"\"Tranform the string \"Don't panic!\" into the string \"on tap\" using only list methods\"\"\"\n",
    "phrase=\"Don't panic!\"\n",
    "plist = list(phrase)\n",
    "print(phrase)\n",
    "print(plist)\n",
    "for i in range(4):\n",
    "    plist.pop()\n",
    "plist.extend([plist.pop(),plist.pop()])\n",
    "plist.remove(\"'\")\n",
    "plist.pop(0)\n",
    "plist.insert(2,plist.pop(3))\n",
    "#turn the list into a string\n",
    "new_phrase = ''.join(plist)\n",
    "print(plist)\n",
    "print(new_phrase)"
   ]
  },
  {
   "cell_type": "code",
   "execution_count": 4,
   "metadata": {},
   "outputs": [
    {
     "name": "stdout",
     "output_type": "stream",
     "text": [
      "[1, 2, 3, 4, 5]\n",
      "[1, 2, 3, 4, 5]\n"
     ]
    }
   ],
   "source": [
    "\"\"\"Having another variable referencing to the same list\"\"\"\n",
    "first = [1,2,3,4,5]\n",
    "second = first\n",
    "print(first)\n",
    "print(second)"
   ]
  },
  {
   "cell_type": "code",
   "execution_count": 5,
   "metadata": {},
   "outputs": [
    {
     "name": "stdout",
     "output_type": "stream",
     "text": [
      "[1, 2, 3, 4, 5]\n",
      "[1, 2, 3, 4, 5, 6]\n"
     ]
    }
   ],
   "source": [
    "\"\"\"make a copy of the objects in existing list and use the copy to initialize a new list\"\"\"\n",
    "third=second.copy()\n",
    "third.append(6)\n",
    "print(second)\n",
    "print(third)"
   ]
  },
  {
   "cell_type": "code",
   "execution_count": 6,
   "metadata": {},
   "outputs": [
    {
     "name": "stdout",
     "output_type": "stream",
     "text": [
      "['D', 'n', 't', 'p', 'n', 'c']\n",
      "['D', \"'\", 'p', 'i']\n"
     ]
    }
   ],
   "source": [
    "\"\"\"range(start,stop,step)\n",
    "list[start:stop:step]\"\"\"\n",
    "saying = \"Don't panic!\"\n",
    "letters = list(saying)\n",
    "EverySecondLetter = letters[::2]\n",
    "EveryThirdLetter= letters[::3]\n",
    "print(EverySecondLetter)\n",
    "print(EveryThirdLetter)"
   ]
  },
  {
   "cell_type": "code",
   "execution_count": 11,
   "metadata": {},
   "outputs": [
    {
     "name": "stdout",
     "output_type": "stream",
     "text": [
      "Don't panic!\n",
      "['D', 'o', 'n', \"'\", 't', ' ', 'p', 'a', 'n', 'i', 'c', '!']\n",
      "['o', 'n', ' ', 't', 'p', 'a']\n",
      "['o', 'n', ' ', 't', 'a', 'p']\n",
      "on tap\n"
     ]
    }
   ],
   "source": [
    "\"\"\"use python squar bracket notation to transform \"Don't Panic!\" to \"on tap\" \"\"\"\n",
    "#my own code\n",
    "phrase = \"Don't panic!\"\n",
    "plist = list(phrase)\n",
    "print(phrase)\n",
    "print(plist)\n",
    "n1 = plist[1:8:1]\n",
    "n1.remove(\"'\")\n",
    "n1.remove(' ')\n",
    "n1.insert(2,' ')\n",
    "print(n1)\n",
    "n1.extend([n1.pop(),n1.pop()])\n",
    "print(n1)\n",
    "new =''.join(n1)\n",
    "print(new)\n",
    "\n"
   ]
  },
  {
   "cell_type": "code",
   "execution_count": 14,
   "metadata": {},
   "outputs": [
    {
     "name": "stdout",
     "output_type": "stream",
     "text": [
      "['D', 'o', 'n', \"'\", 't', ' ', 'p', 'a', 'n', 'i', 'c', '!']\n",
      "on tap\n"
     ]
    }
   ],
   "source": [
    "#better code\n",
    "\"\"\"because the original list was not altered\n",
    "pop,extend, remove,insert alter the list\n",
    "slicing [] does not alter the list\"\"\"\n",
    "\n",
    "phrase = \"Don't panic!\"\n",
    "plist = list(phrase)\n",
    "new_phrase = ''.join(plist[1:3])\n",
    "new_phrase = new_phrase+''.join([plist[5],plist[4],plist[7],plist[6]])\n",
    "print(plist)\n",
    "print(new_phrase)"
   ]
  },
  {
   "cell_type": "code",
   "execution_count": 15,
   "metadata": {},
   "outputs": [
    {
     "name": "stdout",
     "output_type": "stream",
     "text": [
      "i\n",
      "i\n",
      "a\n"
     ]
    }
   ],
   "source": [
    "\"\"\"displays all the vowels found in the word including any duplicates\"\"\"\n",
    "vowels = ['a','e','i','o','u']\n",
    "word = \"Milliways\"\n",
    "for letter in word:\n",
    "    if letter in vowels:\n",
    "        print(letter)"
   ]
  },
  {
   "cell_type": "code",
   "execution_count": 16,
   "metadata": {},
   "outputs": [
    {
     "name": "stdout",
     "output_type": "stream",
     "text": [
      "provide a word to search for vowels:milliways\n",
      "i\n",
      "a\n"
     ]
    }
   ],
   "source": [
    "\"\"\"use a list to avoid duplicates; displays the list of vowels found in the word\"\"\"\n",
    "vowels = ['a','e','i','o','u']\n",
    "word = input(\"provide a word to search for vowels:\")\n",
    "found = []\n",
    "for letter in word:\n",
    "    if letter in vowels:\n",
    "        if letter not in found:\n",
    "            found.append(letter)\n",
    "for vowel in found:\n",
    "    print(vowel)"
   ]
  },
  {
   "cell_type": "code",
   "execution_count": null,
   "metadata": {},
   "outputs": [],
   "source": []
  }
 ],
 "metadata": {
  "kernelspec": {
   "display_name": "Python 3",
   "language": "python",
   "name": "python3"
  },
  "language_info": {
   "codemirror_mode": {
    "name": "ipython",
    "version": 3
   },
   "file_extension": ".py",
   "mimetype": "text/x-python",
   "name": "python",
   "nbconvert_exporter": "python",
   "pygments_lexer": "ipython3",
   "version": "3.7.4"
  }
 },
 "nbformat": 4,
 "nbformat_minor": 2
}
